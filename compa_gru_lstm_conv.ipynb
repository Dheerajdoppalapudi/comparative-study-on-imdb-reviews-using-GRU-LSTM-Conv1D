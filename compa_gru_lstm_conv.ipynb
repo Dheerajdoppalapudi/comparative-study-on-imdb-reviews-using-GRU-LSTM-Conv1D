{
 "cells": [
  {
   "cell_type": "code",
   "execution_count": 1,
   "metadata": {
    "id": "GbZyNxjzK4HR"
   },
   "outputs": [],
   "source": [
    "import os\n",
    "import zipfile\n",
    "import numpy as np\n",
    "import tensorflow as tf\n",
    "import tensorflow_datasets as tfds\n",
    "from tensorflow.keras.optimizers import RMSprop\n",
    "from tensorflow.keras.preprocessing.image import ImageDataGenerator"
   ]
  },
  {
   "cell_type": "code",
   "execution_count": 14,
   "metadata": {
    "colab": {
     "base_uri": "https://localhost:8080/",
     "height": 367,
     "referenced_widgets": [
      "5eb2865fb981426095710af7551a27ff",
      "111f5f34f95c45548331c1d3eebc1c3d",
      "e74d7a0f048d418292cd986a85cd4c22",
      "762e3409582c404dad6daa4550f8de28",
      "42950dd798614461881e2e92d28b3064",
      "c32bc875238946bcbf41285a4106702f",
      "89b4466c69af47b4b5a1971c682ff29f",
      "be7ffd992aaf4bf58e70626f62b282d1",
      "0f9c0a0c240b4b74a6c2a4a59c17ca31",
      "6c02bf72e5fd46e99f8c951b0495d9fb",
      "7c51cb8254694551901e5625652d2ecd",
      "1f3caee1cc5b4d2c96833d643ed06fa2",
      "c58ded37b85547f480938da88e8570ee",
      "48c2f5be8a3248158190f96dacb92bf2",
      "2eb37e38e6974358939bf71cb93d45d1",
      "88018f7f966147e4a097f1dfde0006c7",
      "0b6a6a379de54a31b4bd98575d8ba98a",
      "29d92d4634cd40f897d78b4c01c9ac2f",
      "6396b4edc5f546c7807daf5e1c4ab3bc",
      "7196f537ca744c1f902b5158a7c35723",
      "ee171155edab49959e279ec8af9b7782",
      "7e663b72f5a04f39a6995f4bf4d5fb0f",
      "5f21e4394b5d478091549a7935492978",
      "580489b817184b19b1b84dfb34603a07",
      "049a9162535641c89e6f8f939e416ab7",
      "84b097dfe7674ca4ac244c592948af33",
      "60d34e3c76e542bfa711696bd314f216",
      "6b28db1a5fae4a8e9b64527a8eb0bad1",
      "2e1db999197947088bf4ca2457bb85c2",
      "57341117dcbe43268efa2f90b54ea479",
      "9ac88b7407aa42069dfcfa5ae9f1514e",
      "414eddc0fc4c4153a824bc53714a2649",
      "61e1675ef26e4a6789fccd630a664b5c",
      "616db11e19b043d39f5d0c0d1f773fe6",
      "2a4c824c5ceb44c5a64918896d1879ab",
      "1ed309f802534209898a41f8868c75b1",
      "4f7cd6bf1ca041448cee2509ae23e997",
      "90268e67af0f4fe9bae6e5b46f0e5dd2",
      "6e612190bbe94300be0616406bc1f414",
      "5e0503f465124a3ea3cc7fb8eaa0445c",
      "e606123939ea4ce9a6f126d10106103e",
      "6514fbc23820485ca7bc10dff44fb4c4",
      "79e1135b4d6145ffb8c2cbd364d561a4",
      "b901fae9b63e4bde9c642a73c6e2dd88",
      "43412743a9b847e1a08f201d34e2037f",
      "39fcabcaa81a4c23a0ac1a4e6b3bd426",
      "942587e2672a4a01837a79de40f0a9bb",
      "721200b4d98149e2bbf39c976751ae08",
      "e312b2f6a3db45599ce5bf9a52531794",
      "99f4f176e0504f92b2bcbd528958bfb2",
      "97725d21f9fa40839141a4136fdd1124",
      "5266f904b1ff4146bf2fbfdf019c291d",
      "d755719dc17f40b1bb326742c8f78839",
      "289cff790fde400fa6807f6c3823046e",
      "16a79e81698b4d748592914bd43020a2",
      "54fbef0475c34acc9db6a89e48f0ae32",
      "d3df9df318c049a9ae140527c5400674",
      "cc5be122581a49758599bae2aae3080c",
      "bb1ee50789304e7d9f28f57e14541742",
      "07ac054ee0ca43a89b63ff31f67522f0",
      "69378b0fefa9438f9b887d90103d555b",
      "0c6eda1ec2834a67a14b4ba366745458",
      "6fc26ad2d7f64f778cfeaaa877b9fd27",
      "2863d60932d44b8ca93e894fce36cd4a"
     ]
    },
    "id": "8E99HVEMsx5W",
    "outputId": "d9855be8-5246-4a65-ec7b-530fee3f469f"
   },
   "outputs": [
    {
     "name": "stdout",
     "output_type": "stream",
     "text": [
      "\u001b[1mDownloading and preparing dataset imdb_reviews/plain_text/1.0.0 (download: 80.23 MiB, generated: Unknown size, total: 80.23 MiB) to /root/tensorflow_datasets/imdb_reviews/plain_text/1.0.0...\u001b[0m\n"
     ]
    },
    {
     "data": {
      "application/vnd.jupyter.widget-view+json": {
       "model_id": "5eb2865fb981426095710af7551a27ff",
       "version_major": 2,
       "version_minor": 0
      },
      "text/plain": [
       "HBox(children=(FloatProgress(value=1.0, bar_style='info', description='Dl Completed...', max=1.0, style=Progre…"
      ]
     },
     "metadata": {
      "tags": []
     },
     "output_type": "display_data"
    },
    {
     "data": {
      "application/vnd.jupyter.widget-view+json": {
       "model_id": "0f9c0a0c240b4b74a6c2a4a59c17ca31",
       "version_major": 2,
       "version_minor": 0
      },
      "text/plain": [
       "HBox(children=(FloatProgress(value=1.0, bar_style='info', description='Dl Size...', max=1.0, style=ProgressSty…"
      ]
     },
     "metadata": {
      "tags": []
     },
     "output_type": "display_data"
    },
    {
     "name": "stdout",
     "output_type": "stream",
     "text": [
      "\n",
      "\n",
      "\n",
      "\n"
     ]
    },
    {
     "data": {
      "application/vnd.jupyter.widget-view+json": {
       "model_id": "0b6a6a379de54a31b4bd98575d8ba98a",
       "version_major": 2,
       "version_minor": 0
      },
      "text/plain": [
       "HBox(children=(FloatProgress(value=1.0, bar_style='info', max=1.0), HTML(value='')))"
      ]
     },
     "metadata": {
      "tags": []
     },
     "output_type": "display_data"
    },
    {
     "name": "stdout",
     "output_type": "stream",
     "text": [
      "\r",
      "Shuffling and writing examples to /root/tensorflow_datasets/imdb_reviews/plain_text/1.0.0.incompleteYL9YXI/imdb_reviews-train.tfrecord\n"
     ]
    },
    {
     "data": {
      "application/vnd.jupyter.widget-view+json": {
       "model_id": "049a9162535641c89e6f8f939e416ab7",
       "version_major": 2,
       "version_minor": 0
      },
      "text/plain": [
       "HBox(children=(FloatProgress(value=0.0, max=25000.0), HTML(value='')))"
      ]
     },
     "metadata": {
      "tags": []
     },
     "output_type": "display_data"
    },
    {
     "name": "stdout",
     "output_type": "stream",
     "text": [
      "\r"
     ]
    },
    {
     "data": {
      "application/vnd.jupyter.widget-view+json": {
       "model_id": "61e1675ef26e4a6789fccd630a664b5c",
       "version_major": 2,
       "version_minor": 0
      },
      "text/plain": [
       "HBox(children=(FloatProgress(value=1.0, bar_style='info', max=1.0), HTML(value='')))"
      ]
     },
     "metadata": {
      "tags": []
     },
     "output_type": "display_data"
    },
    {
     "name": "stdout",
     "output_type": "stream",
     "text": [
      "\r",
      "Shuffling and writing examples to /root/tensorflow_datasets/imdb_reviews/plain_text/1.0.0.incompleteYL9YXI/imdb_reviews-test.tfrecord\n"
     ]
    },
    {
     "data": {
      "application/vnd.jupyter.widget-view+json": {
       "model_id": "e606123939ea4ce9a6f126d10106103e",
       "version_major": 2,
       "version_minor": 0
      },
      "text/plain": [
       "HBox(children=(FloatProgress(value=0.0, max=25000.0), HTML(value='')))"
      ]
     },
     "metadata": {
      "tags": []
     },
     "output_type": "display_data"
    },
    {
     "name": "stdout",
     "output_type": "stream",
     "text": [
      "\r"
     ]
    },
    {
     "data": {
      "application/vnd.jupyter.widget-view+json": {
       "model_id": "e312b2f6a3db45599ce5bf9a52531794",
       "version_major": 2,
       "version_minor": 0
      },
      "text/plain": [
       "HBox(children=(FloatProgress(value=1.0, bar_style='info', max=1.0), HTML(value='')))"
      ]
     },
     "metadata": {
      "tags": []
     },
     "output_type": "display_data"
    },
    {
     "name": "stdout",
     "output_type": "stream",
     "text": [
      "\r",
      "Shuffling and writing examples to /root/tensorflow_datasets/imdb_reviews/plain_text/1.0.0.incompleteYL9YXI/imdb_reviews-unsupervised.tfrecord\n"
     ]
    },
    {
     "data": {
      "application/vnd.jupyter.widget-view+json": {
       "model_id": "d3df9df318c049a9ae140527c5400674",
       "version_major": 2,
       "version_minor": 0
      },
      "text/plain": [
       "HBox(children=(FloatProgress(value=0.0, max=50000.0), HTML(value='')))"
      ]
     },
     "metadata": {
      "tags": []
     },
     "output_type": "display_data"
    },
    {
     "name": "stderr",
     "output_type": "stream",
     "text": [
      "WARNING:absl:Dataset is using deprecated text encoder API which will be removed soon. Please use the plain_text version of the dataset and migrate to `tensorflow_text`.\n"
     ]
    },
    {
     "name": "stdout",
     "output_type": "stream",
     "text": [
      "\u001b[1mDataset imdb_reviews downloaded and prepared to /root/tensorflow_datasets/imdb_reviews/plain_text/1.0.0. Subsequent calls will reuse this data.\u001b[0m\n",
      "\r"
     ]
    }
   ],
   "source": [
    "import tensorflow_datasets as tfds\n",
    "imdb, info = tfds.load(\"imdb_reviews\", with_info=True, as_supervised=True)"
   ]
  },
  {
   "cell_type": "code",
   "execution_count": 15,
   "metadata": {
    "id": "_lUAzB-Dygi7"
   },
   "outputs": [],
   "source": [
    "import numpy as np\n",
    "\n",
    "train_data, test_data = imdb['train'], imdb['test']"
   ]
  },
  {
   "cell_type": "code",
   "execution_count": 16,
   "metadata": {
    "id": "KZ5Brkn6yj5b"
   },
   "outputs": [],
   "source": [
    "training_sentences = []\n",
    "training_labels = []\n",
    "\n",
    "testing_sentences = []\n",
    "testing_labels = []"
   ]
  },
  {
   "cell_type": "code",
   "execution_count": 17,
   "metadata": {
    "id": "6bN5QewEylm2"
   },
   "outputs": [],
   "source": [
    "for s,l in train_data:\n",
    "  training_sentences.append(str(s.numpy()))\n",
    "  training_labels.append(l.numpy())\n",
    "  \n",
    "for s,l in test_data:\n",
    "  testing_sentences.append(str(s.numpy()))\n",
    "  testing_labels.append(l.numpy())"
   ]
  },
  {
   "cell_type": "code",
   "execution_count": 18,
   "metadata": {
    "id": "kf83E7nIynfb"
   },
   "outputs": [],
   "source": [
    "training_labels_final = np.array(training_labels)\n",
    "testing_labels_final = np.array(testing_labels)"
   ]
  },
  {
   "cell_type": "code",
   "execution_count": 19,
   "metadata": {
    "id": "e5-SSelMypTv"
   },
   "outputs": [],
   "source": [
    "vocab_size = 10000\n",
    "embedding_dim = 16\n",
    "max_length = 120\n",
    "trunc_type='post'\n",
    "oov_tok = \"<OOV>\""
   ]
  },
  {
   "cell_type": "code",
   "execution_count": 20,
   "metadata": {
    "id": "TF36k-g8yrY7"
   },
   "outputs": [],
   "source": [
    "from tensorflow.keras.preprocessing.text import Tokenizer\n",
    "from tensorflow.keras.preprocessing.sequence import pad_sequences\n",
    "\n",
    "tokenizer = Tokenizer(num_words = vocab_size, oov_token=oov_tok)\n",
    "tokenizer.fit_on_texts(training_sentences)\n",
    "word_index = tokenizer.word_index\n",
    "sequences = tokenizer.texts_to_sequences(training_sentences)\n",
    "padded = pad_sequences(sequences,maxlen=max_length, truncating=trunc_type)\n",
    "\n",
    "testing_sequences = tokenizer.texts_to_sequences(testing_sentences)\n",
    "testing_padded = pad_sequences(testing_sequences,maxlen=max_length)"
   ]
  },
  {
   "cell_type": "code",
   "execution_count": 21,
   "metadata": {
    "colab": {
     "base_uri": "https://localhost:8080/"
    },
    "id": "eSkkUM8vyt6H",
    "outputId": "e83dd0f2-a625-42af-eb64-b51da4b73198"
   },
   "outputs": [
    {
     "name": "stdout",
     "output_type": "stream",
     "text": [
      "? ? ? ? ? ? ? b'i have been known to fall asleep during films but this is usually due to a combination of things including really tired being warm and comfortable on the <OOV> and having just eaten a lot however on this occasion i fell asleep because the film was rubbish the plot development was constant constantly slow and boring things seemed to happen but with no explanation of what was causing them or why i admit i may have missed part of the film but i watched the majority of it and everything just seemed to happen of its own <OOV> without any real concern for anything else i cant recommend this film at all '\n",
      "b'I have been known to fall asleep during films, but this is usually due to a combination of things including, really tired, being warm and comfortable on the sette and having just eaten a lot. However on this occasion I fell asleep because the film was rubbish. The plot development was constant. Constantly slow and boring. Things seemed to happen, but with no explanation of what was causing them or why. I admit, I may have missed part of the film, but i watched the majority of it and everything just seemed to happen of its own accord without any real concern for anything else. I cant recommend this film at all.'\n"
     ]
    }
   ],
   "source": [
    "reverse_word_index = dict([(value, key) for (key, value) in word_index.items()])\n",
    "\n",
    "def decode_review(text):\n",
    "    return ' '.join([reverse_word_index.get(i, '?') for i in text])\n",
    "\n",
    "print(decode_review(padded[1]))\n",
    "print(training_sentences[1])"
   ]
  },
  {
   "cell_type": "code",
   "execution_count": 22,
   "metadata": {
    "colab": {
     "base_uri": "https://localhost:8080/"
    },
    "id": "PpGdIR5Eyvvx",
    "outputId": "754d2b04-637d-4184-bff6-91f83ca4082e"
   },
   "outputs": [
    {
     "name": "stdout",
     "output_type": "stream",
     "text": [
      "Model: \"sequential_1\"\n",
      "_________________________________________________________________\n",
      "Layer (type)                 Output Shape              Param #   \n",
      "=================================================================\n",
      "embedding_1 (Embedding)      (None, 120, 16)           160000    \n",
      "_________________________________________________________________\n",
      "bidirectional_2 (Bidirection (None, 64)                9600      \n",
      "_________________________________________________________________\n",
      "dense_2 (Dense)              (None, 6)                 390       \n",
      "_________________________________________________________________\n",
      "dense_3 (Dense)              (None, 1)                 7         \n",
      "=================================================================\n",
      "Total params: 169,997\n",
      "Trainable params: 169,997\n",
      "Non-trainable params: 0\n",
      "_________________________________________________________________\n"
     ]
    }
   ],
   "source": [
    "model = tf.keras.Sequential([\n",
    "    tf.keras.layers.Embedding(vocab_size, embedding_dim, input_length=max_length),\n",
    "    tf.keras.layers.Bidirectional(tf.keras.layers.GRU(32)),\n",
    "    tf.keras.layers.Dense(6, activation='relu'),\n",
    "    tf.keras.layers.Dense(1, activation='sigmoid')\n",
    "])\n",
    "model.compile(loss='binary_crossentropy',optimizer='adam',metrics=['accuracy'])\n",
    "model.summary()"
   ]
  },
  {
   "cell_type": "code",
   "execution_count": 23,
   "metadata": {
    "colab": {
     "base_uri": "https://localhost:8080/"
    },
    "id": "auiRK81XyyEy",
    "outputId": "3d986a43-49b0-4051-cb18-280e1d279cbc",
    "scrolled": false
   },
   "outputs": [
    {
     "name": "stdout",
     "output_type": "stream",
     "text": [
      "Epoch 1/50\n",
      "782/782 [==============================] - 24s 18ms/step - loss: 0.6174 - accuracy: 0.6582 - val_loss: 0.4604 - val_accuracy: 0.8158\n",
      "Epoch 2/50\n",
      "782/782 [==============================] - 13s 17ms/step - loss: 0.3507 - accuracy: 0.8500 - val_loss: 0.3534 - val_accuracy: 0.8403\n",
      "Epoch 3/50\n",
      "782/782 [==============================] - 13s 17ms/step - loss: 0.2613 - accuracy: 0.8957 - val_loss: 0.3629 - val_accuracy: 0.8392\n",
      "Epoch 4/50\n",
      "782/782 [==============================] - 14s 18ms/step - loss: 0.2104 - accuracy: 0.9200 - val_loss: 0.3969 - val_accuracy: 0.8298\n",
      "Epoch 5/50\n",
      "782/782 [==============================] - 15s 19ms/step - loss: 0.1631 - accuracy: 0.9402 - val_loss: 0.4479 - val_accuracy: 0.8278\n",
      "Epoch 6/50\n",
      "782/782 [==============================] - 14s 18ms/step - loss: 0.1272 - accuracy: 0.9540 - val_loss: 0.5490 - val_accuracy: 0.8262\n",
      "Epoch 7/50\n",
      "782/782 [==============================] - 13s 17ms/step - loss: 0.0873 - accuracy: 0.9703 - val_loss: 0.6936 - val_accuracy: 0.8165\n",
      "Epoch 8/50\n",
      "782/782 [==============================] - 13s 17ms/step - loss: 0.0695 - accuracy: 0.9760 - val_loss: 0.6694 - val_accuracy: 0.8154\n",
      "Epoch 9/50\n",
      "782/782 [==============================] - 14s 18ms/step - loss: 0.0484 - accuracy: 0.9846 - val_loss: 0.8302 - val_accuracy: 0.8123\n",
      "Epoch 10/50\n",
      "782/782 [==============================] - 14s 19ms/step - loss: 0.0353 - accuracy: 0.9892 - val_loss: 0.9228 - val_accuracy: 0.8072\n",
      "Epoch 11/50\n",
      "782/782 [==============================] - 14s 18ms/step - loss: 0.0310 - accuracy: 0.9899 - val_loss: 0.9958 - val_accuracy: 0.8090\n",
      "Epoch 12/50\n",
      "782/782 [==============================] - 13s 17ms/step - loss: 0.0218 - accuracy: 0.9927 - val_loss: 1.0013 - val_accuracy: 0.7959\n",
      "Epoch 13/50\n",
      "782/782 [==============================] - 13s 17ms/step - loss: 0.0181 - accuracy: 0.9939 - val_loss: 1.1321 - val_accuracy: 0.8110\n",
      "Epoch 14/50\n",
      "782/782 [==============================] - 14s 18ms/step - loss: 0.0155 - accuracy: 0.9946 - val_loss: 1.2438 - val_accuracy: 0.8072\n",
      "Epoch 15/50\n",
      "782/782 [==============================] - 14s 18ms/step - loss: 0.0139 - accuracy: 0.9954 - val_loss: 1.1682 - val_accuracy: 0.8110\n",
      "Epoch 16/50\n",
      "782/782 [==============================] - 14s 17ms/step - loss: 0.0129 - accuracy: 0.9957 - val_loss: 1.2363 - val_accuracy: 0.7986\n",
      "Epoch 17/50\n",
      "782/782 [==============================] - 14s 17ms/step - loss: 0.0078 - accuracy: 0.9977 - val_loss: 1.2935 - val_accuracy: 0.7948\n",
      "Epoch 18/50\n",
      "782/782 [==============================] - 14s 18ms/step - loss: 0.0094 - accuracy: 0.9970 - val_loss: 1.3228 - val_accuracy: 0.8142\n",
      "Epoch 19/50\n",
      "782/782 [==============================] - 15s 19ms/step - loss: 0.0071 - accuracy: 0.9979 - val_loss: 1.2977 - val_accuracy: 0.8110\n",
      "Epoch 20/50\n",
      "782/782 [==============================] - 14s 18ms/step - loss: 0.0095 - accuracy: 0.9972 - val_loss: 1.4661 - val_accuracy: 0.8105\n",
      "Epoch 21/50\n",
      "782/782 [==============================] - 13s 17ms/step - loss: 0.0041 - accuracy: 0.9986 - val_loss: 1.4187 - val_accuracy: 0.8126\n",
      "Epoch 22/50\n",
      "782/782 [==============================] - 13s 17ms/step - loss: 0.0113 - accuracy: 0.9962 - val_loss: 1.3116 - val_accuracy: 0.8002\n",
      "Epoch 23/50\n",
      "782/782 [==============================] - 14s 18ms/step - loss: 0.0082 - accuracy: 0.9972 - val_loss: 1.3818 - val_accuracy: 0.8095\n",
      "Epoch 24/50\n",
      "782/782 [==============================] - 14s 18ms/step - loss: 0.0011 - accuracy: 0.9998 - val_loss: 1.5884 - val_accuracy: 0.8086\n",
      "Epoch 25/50\n",
      "782/782 [==============================] - 14s 18ms/step - loss: 1.3399e-04 - accuracy: 1.0000 - val_loss: 1.6884 - val_accuracy: 0.8088\n",
      "Epoch 26/50\n",
      "782/782 [==============================] - 14s 18ms/step - loss: 5.6992e-05 - accuracy: 1.0000 - val_loss: 1.7480 - val_accuracy: 0.8094\n",
      "Epoch 27/50\n",
      "782/782 [==============================] - 14s 18ms/step - loss: 3.4650e-05 - accuracy: 1.0000 - val_loss: 1.8222 - val_accuracy: 0.8092\n",
      "Epoch 28/50\n",
      "782/782 [==============================] - 13s 17ms/step - loss: 2.2854e-05 - accuracy: 1.0000 - val_loss: 1.8970 - val_accuracy: 0.8094\n",
      "Epoch 29/50\n",
      "782/782 [==============================] - 14s 17ms/step - loss: 1.5210e-05 - accuracy: 1.0000 - val_loss: 1.9695 - val_accuracy: 0.8097\n",
      "Epoch 30/50\n",
      "782/782 [==============================] - 14s 17ms/step - loss: 1.0096e-05 - accuracy: 1.0000 - val_loss: 2.0409 - val_accuracy: 0.8096\n",
      "Epoch 31/50\n",
      "782/782 [==============================] - 14s 18ms/step - loss: 6.7087e-06 - accuracy: 1.0000 - val_loss: 2.1155 - val_accuracy: 0.8100\n",
      "Epoch 32/50\n",
      "782/782 [==============================] - 14s 18ms/step - loss: 4.3967e-06 - accuracy: 1.0000 - val_loss: 2.1943 - val_accuracy: 0.8096\n",
      "Epoch 33/50\n",
      "782/782 [==============================] - 13s 17ms/step - loss: 2.8709e-06 - accuracy: 1.0000 - val_loss: 2.2677 - val_accuracy: 0.8099\n",
      "Epoch 34/50\n",
      "782/782 [==============================] - 13s 17ms/step - loss: 1.8761e-06 - accuracy: 1.0000 - val_loss: 2.3471 - val_accuracy: 0.8100\n",
      "Epoch 35/50\n",
      "782/782 [==============================] - 14s 18ms/step - loss: 1.2148e-06 - accuracy: 1.0000 - val_loss: 2.4222 - val_accuracy: 0.8102\n",
      "Epoch 36/50\n",
      "782/782 [==============================] - 14s 18ms/step - loss: 7.8785e-07 - accuracy: 1.0000 - val_loss: 2.4960 - val_accuracy: 0.8102\n",
      "Epoch 37/50\n",
      "782/782 [==============================] - 13s 17ms/step - loss: 5.0875e-07 - accuracy: 1.0000 - val_loss: 2.5828 - val_accuracy: 0.8097\n",
      "Epoch 38/50\n",
      "782/782 [==============================] - 14s 17ms/step - loss: 3.2885e-07 - accuracy: 1.0000 - val_loss: 2.6538 - val_accuracy: 0.8106\n",
      "Epoch 39/50\n",
      "782/782 [==============================] - 13s 17ms/step - loss: 2.1315e-07 - accuracy: 1.0000 - val_loss: 2.7394 - val_accuracy: 0.8106\n",
      "Epoch 40/50\n",
      "782/782 [==============================] - 14s 18ms/step - loss: 1.3881e-07 - accuracy: 1.0000 - val_loss: 2.8114 - val_accuracy: 0.8106\n",
      "Epoch 41/50\n",
      "782/782 [==============================] - 14s 18ms/step - loss: 9.0218e-08 - accuracy: 1.0000 - val_loss: 2.8945 - val_accuracy: 0.8105\n",
      "Epoch 42/50\n",
      "782/782 [==============================] - 13s 17ms/step - loss: 5.9686e-08 - accuracy: 1.0000 - val_loss: 2.9656 - val_accuracy: 0.8101\n",
      "Epoch 43/50\n",
      "782/782 [==============================] - 13s 17ms/step - loss: 3.9651e-08 - accuracy: 1.0000 - val_loss: 3.0337 - val_accuracy: 0.8102\n",
      "Epoch 44/50\n",
      "782/782 [==============================] - 13s 17ms/step - loss: 2.6656e-08 - accuracy: 1.0000 - val_loss: 3.1047 - val_accuracy: 0.8101\n",
      "Epoch 45/50\n",
      "782/782 [==============================] - 14s 18ms/step - loss: 1.8116e-08 - accuracy: 1.0000 - val_loss: 3.1746 - val_accuracy: 0.8104\n",
      "Epoch 46/50\n",
      "782/782 [==============================] - 14s 18ms/step - loss: 1.2503e-08 - accuracy: 1.0000 - val_loss: 3.2303 - val_accuracy: 0.8097\n",
      "Epoch 47/50\n",
      "782/782 [==============================] - 14s 18ms/step - loss: 8.7613e-09 - accuracy: 1.0000 - val_loss: 3.2944 - val_accuracy: 0.8102\n",
      "Epoch 48/50\n",
      "782/782 [==============================] - 15s 19ms/step - loss: 6.2698e-09 - accuracy: 1.0000 - val_loss: 3.3538 - val_accuracy: 0.8100\n",
      "Epoch 49/50\n",
      "782/782 [==============================] - 14s 18ms/step - loss: 4.5731e-09 - accuracy: 1.0000 - val_loss: 3.4112 - val_accuracy: 0.8102\n",
      "Epoch 50/50\n",
      "782/782 [==============================] - 14s 18ms/step - loss: 3.3614e-09 - accuracy: 1.0000 - val_loss: 3.4616 - val_accuracy: 0.8100\n"
     ]
    }
   ],
   "source": [
    "num_epochs = 50\n",
    "history = model.fit(padded, training_labels_final, epochs=num_epochs, validation_data=(testing_padded, testing_labels_final))"
   ]
  },
  {
   "cell_type": "code",
   "execution_count": null,
   "metadata": {
    "id": "8ETp5d_0y1ss"
   },
   "outputs": [],
   "source": [
    "import matplotlib.pyplot as plt\n",
    "\n",
    "def plot_graphs(history, string):\n",
    "  plt.plot(history.history[string])\n",
    "  plt.plot(history.history['val_'+string])\n",
    "  plt.xlabel(\"Epochs\")\n",
    "  plt.ylabel(string)\n",
    "  plt.legend([string, 'val_'+string])\n",
    "  plt.show()\n",
    "\n",
    "plot_graphs(history, 'accuracy')\n",
    "plot_graphs(history, 'loss')"
   ]
  },
  {
   "cell_type": "markdown",
   "metadata": {
    "id": "rA7YKj3DzC2p"
   },
   "source": [
    "# **LSTM Model**"
   ]
  },
  {
   "cell_type": "code",
   "execution_count": 24,
   "metadata": {
    "colab": {
     "base_uri": "https://localhost:8080/"
    },
    "id": "nkHCTn2qzJF8",
    "outputId": "bdadb323-47f7-4d58-e9fb-4897d2f6bfb7"
   },
   "outputs": [
    {
     "name": "stdout",
     "output_type": "stream",
     "text": [
      "Model: \"sequential_2\"\n",
      "_________________________________________________________________\n",
      "Layer (type)                 Output Shape              Param #   \n",
      "=================================================================\n",
      "embedding_2 (Embedding)      (None, 120, 16)           160000    \n",
      "_________________________________________________________________\n",
      "bidirectional_3 (Bidirection (None, 64)                12544     \n",
      "_________________________________________________________________\n",
      "dense_4 (Dense)              (None, 6)                 390       \n",
      "_________________________________________________________________\n",
      "dense_5 (Dense)              (None, 1)                 7         \n",
      "=================================================================\n",
      "Total params: 172,941\n",
      "Trainable params: 172,941\n",
      "Non-trainable params: 0\n",
      "_________________________________________________________________\n"
     ]
    }
   ],
   "source": [
    "# Model Definition with LSTM\n",
    "model = tf.keras.Sequential([\n",
    "    tf.keras.layers.Embedding(vocab_size, embedding_dim, input_length=max_length),\n",
    "    tf.keras.layers.Bidirectional(tf.keras.layers.LSTM(32)),\n",
    "    tf.keras.layers.Dense(6, activation='relu'),\n",
    "    tf.keras.layers.Dense(1, activation='sigmoid')\n",
    "])\n",
    "model.compile(loss='binary_crossentropy',optimizer='adam',metrics=['accuracy'])\n",
    "model.summary()"
   ]
  },
  {
   "cell_type": "code",
   "execution_count": 25,
   "metadata": {
    "colab": {
     "base_uri": "https://localhost:8080/"
    },
    "id": "8Xh1d28uzLi3",
    "outputId": "0f8207dc-a605-40b0-dafb-2a4d807716a1",
    "scrolled": false
   },
   "outputs": [
    {
     "name": "stdout",
     "output_type": "stream",
     "text": [
      "Epoch 1/50\n",
      "782/782 [==============================] - 17s 19ms/step - loss: 0.5985 - accuracy: 0.6713 - val_loss: 0.4071 - val_accuracy: 0.8236\n",
      "Epoch 2/50\n",
      "782/782 [==============================] - 15s 19ms/step - loss: 0.3432 - accuracy: 0.8552 - val_loss: 0.3531 - val_accuracy: 0.8435\n",
      "Epoch 3/50\n",
      "782/782 [==============================] - 14s 18ms/step - loss: 0.2555 - accuracy: 0.9005 - val_loss: 0.3751 - val_accuracy: 0.8320\n",
      "Epoch 4/50\n",
      "782/782 [==============================] - 13s 17ms/step - loss: 0.1989 - accuracy: 0.9253 - val_loss: 0.4110 - val_accuracy: 0.8175\n",
      "Epoch 5/50\n",
      "782/782 [==============================] - 14s 17ms/step - loss: 0.1508 - accuracy: 0.9482 - val_loss: 0.4452 - val_accuracy: 0.8285\n",
      "Epoch 6/50\n",
      "782/782 [==============================] - 14s 18ms/step - loss: 0.1157 - accuracy: 0.9604 - val_loss: 0.5820 - val_accuracy: 0.8268\n",
      "Epoch 7/50\n",
      "782/782 [==============================] - 14s 19ms/step - loss: 0.0876 - accuracy: 0.9714 - val_loss: 0.5846 - val_accuracy: 0.8236\n",
      "Epoch 8/50\n",
      "782/782 [==============================] - 14s 18ms/step - loss: 0.0680 - accuracy: 0.9776 - val_loss: 0.6597 - val_accuracy: 0.8198\n",
      "Epoch 9/50\n",
      "782/782 [==============================] - 14s 17ms/step - loss: 0.0514 - accuracy: 0.9836 - val_loss: 0.7710 - val_accuracy: 0.8136\n",
      "Epoch 10/50\n",
      "782/782 [==============================] - 13s 17ms/step - loss: 0.0396 - accuracy: 0.9878 - val_loss: 0.7631 - val_accuracy: 0.8145\n",
      "Epoch 11/50\n",
      "782/782 [==============================] - 14s 18ms/step - loss: 0.0433 - accuracy: 0.9854 - val_loss: 0.7820 - val_accuracy: 0.8159\n",
      "Epoch 12/50\n",
      "782/782 [==============================] - 14s 18ms/step - loss: 0.0265 - accuracy: 0.9924 - val_loss: 0.8642 - val_accuracy: 0.8094\n",
      "Epoch 13/50\n",
      "782/782 [==============================] - 14s 17ms/step - loss: 0.0271 - accuracy: 0.9914 - val_loss: 0.9169 - val_accuracy: 0.8149\n",
      "Epoch 14/50\n",
      "782/782 [==============================] - 13s 17ms/step - loss: 0.0188 - accuracy: 0.9939 - val_loss: 0.9580 - val_accuracy: 0.8083\n",
      "Epoch 15/50\n",
      "782/782 [==============================] - 13s 17ms/step - loss: 0.0226 - accuracy: 0.9932 - val_loss: 0.9349 - val_accuracy: 0.8083\n",
      "Epoch 16/50\n",
      "782/782 [==============================] - 14s 18ms/step - loss: 0.0168 - accuracy: 0.9950 - val_loss: 0.9777 - val_accuracy: 0.8062\n",
      "Epoch 17/50\n",
      "782/782 [==============================] - 14s 18ms/step - loss: 0.0142 - accuracy: 0.9957 - val_loss: 1.0216 - val_accuracy: 0.7916\n",
      "Epoch 18/50\n",
      "782/782 [==============================] - 14s 18ms/step - loss: 0.0148 - accuracy: 0.9948 - val_loss: 1.0982 - val_accuracy: 0.8025\n",
      "Epoch 19/50\n",
      "782/782 [==============================] - 15s 19ms/step - loss: 0.0192 - accuracy: 0.9939 - val_loss: 1.0090 - val_accuracy: 0.8118\n",
      "Epoch 20/50\n",
      "782/782 [==============================] - 14s 18ms/step - loss: 0.0092 - accuracy: 0.9974 - val_loss: 1.0960 - val_accuracy: 0.8156\n",
      "Epoch 21/50\n",
      "782/782 [==============================] - 14s 18ms/step - loss: 0.0083 - accuracy: 0.9975 - val_loss: 1.1279 - val_accuracy: 0.7956\n",
      "Epoch 22/50\n",
      "782/782 [==============================] - 14s 18ms/step - loss: 0.0216 - accuracy: 0.9924 - val_loss: 0.9793 - val_accuracy: 0.7966\n",
      "Epoch 23/50\n",
      "782/782 [==============================] - 15s 19ms/step - loss: 0.0123 - accuracy: 0.9957 - val_loss: 1.1464 - val_accuracy: 0.8089\n",
      "Epoch 24/50\n",
      "782/782 [==============================] - 14s 18ms/step - loss: 0.0065 - accuracy: 0.9978 - val_loss: 1.2066 - val_accuracy: 0.8048\n",
      "Epoch 25/50\n",
      "782/782 [==============================] - 13s 17ms/step - loss: 0.0077 - accuracy: 0.9977 - val_loss: 1.2702 - val_accuracy: 0.8039\n",
      "Epoch 26/50\n",
      "782/782 [==============================] - 13s 17ms/step - loss: 0.0098 - accuracy: 0.9971 - val_loss: 1.1922 - val_accuracy: 0.7936\n",
      "Epoch 27/50\n",
      "782/782 [==============================] - 14s 18ms/step - loss: 0.0104 - accuracy: 0.9961 - val_loss: 1.2293 - val_accuracy: 0.8082\n",
      "Epoch 28/50\n",
      "782/782 [==============================] - 14s 18ms/step - loss: 0.0031 - accuracy: 0.9992 - val_loss: 1.4272 - val_accuracy: 0.8026\n",
      "Epoch 29/50\n",
      "782/782 [==============================] - 14s 18ms/step - loss: 7.2536e-04 - accuracy: 0.9998 - val_loss: 1.3662 - val_accuracy: 0.7965\n",
      "Epoch 30/50\n",
      "782/782 [==============================] - 14s 17ms/step - loss: 0.0067 - accuracy: 0.9974 - val_loss: 1.4773 - val_accuracy: 0.7978\n",
      "Epoch 31/50\n",
      "782/782 [==============================] - 14s 17ms/step - loss: 0.0131 - accuracy: 0.9957 - val_loss: 1.2520 - val_accuracy: 0.8065\n",
      "Epoch 32/50\n",
      "782/782 [==============================] - 14s 18ms/step - loss: 0.0086 - accuracy: 0.9973 - val_loss: 1.2145 - val_accuracy: 0.7869\n",
      "Epoch 33/50\n",
      "782/782 [==============================] - 15s 19ms/step - loss: 0.0063 - accuracy: 0.9980 - val_loss: 1.2345 - val_accuracy: 0.8057\n",
      "Epoch 34/50\n",
      "782/782 [==============================] - 14s 18ms/step - loss: 4.0379e-04 - accuracy: 1.0000 - val_loss: 1.3642 - val_accuracy: 0.8041\n",
      "Epoch 35/50\n",
      "782/782 [==============================] - 13s 17ms/step - loss: 1.1119e-04 - accuracy: 1.0000 - val_loss: 1.5069 - val_accuracy: 0.8061\n",
      "Epoch 36/50\n",
      "782/782 [==============================] - 13s 17ms/step - loss: 5.4289e-05 - accuracy: 1.0000 - val_loss: 1.5897 - val_accuracy: 0.8062\n",
      "Epoch 37/50\n",
      "782/782 [==============================] - 14s 18ms/step - loss: 3.2438e-05 - accuracy: 1.0000 - val_loss: 1.6799 - val_accuracy: 0.8074\n",
      "Epoch 38/50\n",
      "782/782 [==============================] - 15s 19ms/step - loss: 2.0372e-05 - accuracy: 1.0000 - val_loss: 1.7537 - val_accuracy: 0.8068\n",
      "Epoch 39/50\n",
      "782/782 [==============================] - 14s 17ms/step - loss: 1.2980e-05 - accuracy: 1.0000 - val_loss: 1.8407 - val_accuracy: 0.8065\n",
      "Epoch 40/50\n",
      "782/782 [==============================] - 14s 17ms/step - loss: 8.2696e-06 - accuracy: 1.0000 - val_loss: 1.9201 - val_accuracy: 0.8054\n",
      "Epoch 41/50\n",
      "782/782 [==============================] - 14s 17ms/step - loss: 5.2980e-06 - accuracy: 1.0000 - val_loss: 1.9964 - val_accuracy: 0.8056\n",
      "Epoch 42/50\n",
      "782/782 [==============================] - 15s 19ms/step - loss: 3.3515e-06 - accuracy: 1.0000 - val_loss: 2.0833 - val_accuracy: 0.8048\n",
      "Epoch 43/50\n",
      "782/782 [==============================] - 14s 18ms/step - loss: 2.1108e-06 - accuracy: 1.0000 - val_loss: 2.1708 - val_accuracy: 0.8047\n",
      "Epoch 44/50\n",
      "782/782 [==============================] - 15s 19ms/step - loss: 1.3449e-06 - accuracy: 1.0000 - val_loss: 2.2492 - val_accuracy: 0.8047\n",
      "Epoch 45/50\n",
      "782/782 [==============================] - 15s 19ms/step - loss: 8.4562e-07 - accuracy: 1.0000 - val_loss: 2.3387 - val_accuracy: 0.8041\n",
      "Epoch 46/50\n",
      "782/782 [==============================] - 14s 17ms/step - loss: 5.3631e-07 - accuracy: 1.0000 - val_loss: 2.4232 - val_accuracy: 0.8040\n",
      "Epoch 47/50\n",
      "782/782 [==============================] - 13s 17ms/step - loss: 3.4291e-07 - accuracy: 1.0000 - val_loss: 2.5141 - val_accuracy: 0.8032\n",
      "Epoch 48/50\n",
      "782/782 [==============================] - 14s 18ms/step - loss: 2.1718e-07 - accuracy: 1.0000 - val_loss: 2.5936 - val_accuracy: 0.8028\n",
      "Epoch 49/50\n",
      "782/782 [==============================] - 15s 19ms/step - loss: 1.3672e-07 - accuracy: 1.0000 - val_loss: 2.6774 - val_accuracy: 0.8025\n",
      "Epoch 50/50\n",
      "782/782 [==============================] - 14s 18ms/step - loss: 9.4021e-08 - accuracy: 1.0000 - val_loss: 2.7289 - val_accuracy: 0.8031\n"
     ]
    }
   ],
   "source": [
    "num_epochs = 50\n",
    "history = model.fit(padded, training_labels_final, epochs=num_epochs, validation_data=(testing_padded, testing_labels_final))"
   ]
  },
  {
   "cell_type": "code",
   "execution_count": 26,
   "metadata": {
    "colab": {
     "base_uri": "https://localhost:8080/",
     "height": 541
    },
    "id": "-XAU54hpzSbp",
    "outputId": "d6d94736-7db4-4fba-f52d-2600b284320e"
   },
   "outputs": [
    {
     "data": {
      "image/png": "[encoded data removed]",
      "text/plain": [
       "<Figure size 432x288 with 1 Axes>"
      ]
     },
     "metadata": {
      "needs_background": "light",
      "tags": []
     },
     "output_type": "display_data"
    },
    {
     "data": {
      "image/png": "[encoded data removed]",
      "text/plain": [
       "<Figure size 432x288 with 1 Axes>"
      ]
     },
     "metadata": {
      "needs_background": "light",
      "tags": []
     },
     "output_type": "display_data"
    }
   ],
   "source": [
    "plot_graphs(history, 'accuracy')\n",
    "plot_graphs(history, 'loss')"
   ]
  },
  {
   "cell_type": "markdown",
   "metadata": {
    "id": "uJNxLDkozVN3"
   },
   "source": [
    "# **model using convolutions**"
   ]
  },
  {
   "cell_type": "code",
   "execution_count": 27,
   "metadata": {
    "colab": {
     "base_uri": "https://localhost:8080/"
    },
    "id": "Aa-1rpXMzS-W",
    "outputId": "c3be0672-c691-416f-abcc-78f2a4b91fc9"
   },
   "outputs": [
    {
     "name": "stdout",
     "output_type": "stream",
     "text": [
      "Model: \"sequential_3\"\n",
      "_________________________________________________________________\n",
      "Layer (type)                 Output Shape              Param #   \n",
      "=================================================================\n",
      "embedding_3 (Embedding)      (None, 120, 16)           160000    \n",
      "_________________________________________________________________\n",
      "conv1d (Conv1D)              (None, 116, 128)          10368     \n",
      "_________________________________________________________________\n",
      "global_average_pooling1d (Gl (None, 128)               0         \n",
      "_________________________________________________________________\n",
      "dense_6 (Dense)              (None, 6)                 774       \n",
      "_________________________________________________________________\n",
      "dense_7 (Dense)              (None, 1)                 7         \n",
      "=================================================================\n",
      "Total params: 171,149\n",
      "Trainable params: 171,149\n",
      "Non-trainable params: 0\n",
      "_________________________________________________________________\n"
     ]
    }
   ],
   "source": [
    "# Model Definition with Conv1D\n",
    "model = tf.keras.Sequential([\n",
    "    tf.keras.layers.Embedding(vocab_size, embedding_dim, input_length=max_length),\n",
    "    tf.keras.layers.Conv1D(128, 5, activation='relu'),\n",
    "    tf.keras.layers.GlobalAveragePooling1D(),\n",
    "    tf.keras.layers.Dense(6, activation='relu'),\n",
    "    tf.keras.layers.Dense(1, activation='sigmoid')\n",
    "])\n",
    "model.compile(loss='binary_crossentropy',optimizer='adam',metrics=['accuracy'])\n",
    "model.summary()"
   ]
  },
  {
   "cell_type": "code",
   "execution_count": 28,
   "metadata": {
    "colab": {
     "base_uri": "https://localhost:8080/"
    },
    "id": "pSrCRI4Rzein",
    "outputId": "2a73e116-d321-45a2-93a0-4286c591517b",
    "scrolled": false
   },
   "outputs": [
    {
     "name": "stdout",
     "output_type": "stream",
     "text": [
      "Epoch 1/50\n",
      "782/782 [==============================] - 32s 7ms/step - loss: 0.4460 - accuracy: 0.7866 - val_loss: 0.3484 - val_accuracy: 0.8490\n",
      "Epoch 2/50\n",
      "782/782 [==============================] - 5s 7ms/step - loss: 0.2788 - accuracy: 0.8866 - val_loss: 0.3540 - val_accuracy: 0.8484\n",
      "Epoch 3/50\n",
      "782/782 [==============================] - 5s 7ms/step - loss: 0.2268 - accuracy: 0.9118 - val_loss: 0.3897 - val_accuracy: 0.8340\n",
      "Epoch 4/50\n",
      "782/782 [==============================] - 5s 7ms/step - loss: 0.1899 - accuracy: 0.9298 - val_loss: 0.4225 - val_accuracy: 0.8331\n",
      "Epoch 5/50\n",
      "782/782 [==============================] - 5s 7ms/step - loss: 0.1588 - accuracy: 0.9425 - val_loss: 0.4610 - val_accuracy: 0.8279\n",
      "Epoch 6/50\n",
      "782/782 [==============================] - 5s 7ms/step - loss: 0.1292 - accuracy: 0.9557 - val_loss: 0.5257 - val_accuracy: 0.8227\n",
      "Epoch 7/50\n",
      "782/782 [==============================] - 6s 7ms/step - loss: 0.1034 - accuracy: 0.9662 - val_loss: 0.6231 - val_accuracy: 0.8112\n",
      "Epoch 8/50\n",
      "782/782 [==============================] - 6s 7ms/step - loss: 0.0803 - accuracy: 0.9761 - val_loss: 0.7120 - val_accuracy: 0.8100\n",
      "Epoch 9/50\n",
      "782/782 [==============================] - 6s 7ms/step - loss: 0.0640 - accuracy: 0.9820 - val_loss: 0.7862 - val_accuracy: 0.8068\n",
      "Epoch 10/50\n",
      "782/782 [==============================] - 6s 7ms/step - loss: 0.0541 - accuracy: 0.9834 - val_loss: 0.8844 - val_accuracy: 0.8091\n",
      "Epoch 11/50\n",
      "782/782 [==============================] - 6s 7ms/step - loss: 0.0417 - accuracy: 0.9884 - val_loss: 1.0244 - val_accuracy: 0.8056\n",
      "Epoch 12/50\n",
      "782/782 [==============================] - 5s 7ms/step - loss: 0.0334 - accuracy: 0.9908 - val_loss: 1.0758 - val_accuracy: 0.8021\n",
      "Epoch 13/50\n",
      "782/782 [==============================] - 5s 7ms/step - loss: 0.0268 - accuracy: 0.9926 - val_loss: 1.2808 - val_accuracy: 0.8053\n",
      "Epoch 14/50\n",
      "782/782 [==============================] - 5s 7ms/step - loss: 0.0263 - accuracy: 0.9921 - val_loss: 1.2687 - val_accuracy: 0.8005\n",
      "Epoch 15/50\n",
      "782/782 [==============================] - 5s 7ms/step - loss: 0.0205 - accuracy: 0.9940 - val_loss: 1.3530 - val_accuracy: 0.8008\n",
      "Epoch 16/50\n",
      "782/782 [==============================] - 5s 7ms/step - loss: 0.0140 - accuracy: 0.9965 - val_loss: 1.4779 - val_accuracy: 0.7977\n",
      "Epoch 17/50\n",
      "782/782 [==============================] - 5s 7ms/step - loss: 0.0154 - accuracy: 0.9952 - val_loss: 1.6538 - val_accuracy: 0.7990\n",
      "Epoch 18/50\n",
      "782/782 [==============================] - 5s 7ms/step - loss: 0.0171 - accuracy: 0.9942 - val_loss: 1.6267 - val_accuracy: 0.7991\n",
      "Epoch 19/50\n",
      "782/782 [==============================] - 7s 9ms/step - loss: 0.0154 - accuracy: 0.9948 - val_loss: 1.7353 - val_accuracy: 0.8000\n",
      "Epoch 20/50\n",
      "782/782 [==============================] - 6s 7ms/step - loss: 0.0106 - accuracy: 0.9969 - val_loss: 1.9726 - val_accuracy: 0.7960\n",
      "Epoch 21/50\n",
      "782/782 [==============================] - 6s 7ms/step - loss: 0.0085 - accuracy: 0.9977 - val_loss: 1.7598 - val_accuracy: 0.7934\n",
      "Epoch 22/50\n",
      "782/782 [==============================] - 6s 7ms/step - loss: 0.0064 - accuracy: 0.9982 - val_loss: 1.9135 - val_accuracy: 0.8008\n",
      "Epoch 23/50\n",
      "782/782 [==============================] - 5s 7ms/step - loss: 0.0073 - accuracy: 0.9977 - val_loss: 2.1080 - val_accuracy: 0.7997\n",
      "Epoch 24/50\n",
      "782/782 [==============================] - 5s 7ms/step - loss: 0.0130 - accuracy: 0.9952 - val_loss: 1.9931 - val_accuracy: 0.7985\n",
      "Epoch 25/50\n",
      "782/782 [==============================] - 6s 7ms/step - loss: 0.0078 - accuracy: 0.9976 - val_loss: 2.0025 - val_accuracy: 0.7997\n",
      "Epoch 26/50\n",
      "782/782 [==============================] - 6s 7ms/step - loss: 0.0055 - accuracy: 0.9985 - val_loss: 2.0387 - val_accuracy: 0.7951\n",
      "Epoch 27/50\n",
      "782/782 [==============================] - 6s 7ms/step - loss: 0.0030 - accuracy: 0.9990 - val_loss: 2.1191 - val_accuracy: 0.7967\n",
      "Epoch 28/50\n",
      "782/782 [==============================] - 6s 8ms/step - loss: 0.0061 - accuracy: 0.9979 - val_loss: 2.2095 - val_accuracy: 0.7998\n",
      "Epoch 29/50\n",
      "782/782 [==============================] - 6s 7ms/step - loss: 0.0075 - accuracy: 0.9973 - val_loss: 2.1577 - val_accuracy: 0.7952\n",
      "Epoch 30/50\n",
      "782/782 [==============================] - 5s 7ms/step - loss: 0.0044 - accuracy: 0.9985 - val_loss: 2.1968 - val_accuracy: 0.7994\n",
      "Epoch 31/50\n",
      "782/782 [==============================] - 5s 7ms/step - loss: 0.0020 - accuracy: 0.9997 - val_loss: 2.2841 - val_accuracy: 0.7971\n",
      "Epoch 32/50\n",
      "782/782 [==============================] - 5s 7ms/step - loss: 0.0011 - accuracy: 0.9997 - val_loss: 2.4704 - val_accuracy: 0.7952\n",
      "Epoch 33/50\n",
      "782/782 [==============================] - 5s 7ms/step - loss: 8.1210e-04 - accuracy: 0.9999 - val_loss: 2.3949 - val_accuracy: 0.7940\n",
      "Epoch 34/50\n",
      "782/782 [==============================] - 5s 7ms/step - loss: 0.0085 - accuracy: 0.9972 - val_loss: 2.3341 - val_accuracy: 0.7954\n",
      "Epoch 35/50\n",
      "782/782 [==============================] - 5s 7ms/step - loss: 0.0125 - accuracy: 0.9959 - val_loss: 2.2734 - val_accuracy: 0.7912\n",
      "Epoch 36/50\n",
      "782/782 [==============================] - 7s 9ms/step - loss: 0.0045 - accuracy: 0.9987 - val_loss: 2.4279 - val_accuracy: 0.7992\n",
      "Epoch 37/50\n",
      "782/782 [==============================] - 6s 7ms/step - loss: 0.0022 - accuracy: 0.9993 - val_loss: 2.3875 - val_accuracy: 0.7913\n",
      "Epoch 38/50\n",
      "782/782 [==============================] - 6s 7ms/step - loss: 0.0010 - accuracy: 0.9996 - val_loss: 2.5358 - val_accuracy: 0.7980\n",
      "Epoch 39/50\n",
      "782/782 [==============================] - 6s 7ms/step - loss: 4.8090e-04 - accuracy: 1.0000 - val_loss: 2.5618 - val_accuracy: 0.7978\n",
      "Epoch 40/50\n",
      "782/782 [==============================] - 6s 7ms/step - loss: 1.3912e-04 - accuracy: 1.0000 - val_loss: 2.6043 - val_accuracy: 0.7986\n",
      "Epoch 41/50\n",
      "782/782 [==============================] - 5s 7ms/step - loss: 3.4918e-05 - accuracy: 1.0000 - val_loss: 2.6509 - val_accuracy: 0.7994\n",
      "Epoch 42/50\n",
      "782/782 [==============================] - 5s 7ms/step - loss: 2.3100e-05 - accuracy: 1.0000 - val_loss: 2.7082 - val_accuracy: 0.7996\n",
      "Epoch 43/50\n",
      "782/782 [==============================] - 5s 7ms/step - loss: 1.6652e-05 - accuracy: 1.0000 - val_loss: 2.7533 - val_accuracy: 0.7997\n",
      "Epoch 44/50\n",
      "782/782 [==============================] - 5s 7ms/step - loss: 1.2132e-05 - accuracy: 1.0000 - val_loss: 2.8095 - val_accuracy: 0.7997\n",
      "Epoch 45/50\n",
      "782/782 [==============================] - 5s 7ms/step - loss: 8.7559e-06 - accuracy: 1.0000 - val_loss: 2.8700 - val_accuracy: 0.7998\n",
      "Epoch 46/50\n",
      "782/782 [==============================] - 5s 7ms/step - loss: 6.3617e-06 - accuracy: 1.0000 - val_loss: 2.9292 - val_accuracy: 0.7999\n",
      "Epoch 47/50\n",
      "782/782 [==============================] - 5s 7ms/step - loss: 4.4785e-06 - accuracy: 1.0000 - val_loss: 2.9925 - val_accuracy: 0.8000\n",
      "Epoch 48/50\n",
      "782/782 [==============================] - 6s 7ms/step - loss: 3.1397e-06 - accuracy: 1.0000 - val_loss: 3.0634 - val_accuracy: 0.7995\n",
      "Epoch 49/50\n",
      "782/782 [==============================] - 6s 8ms/step - loss: 2.1898e-06 - accuracy: 1.0000 - val_loss: 3.1355 - val_accuracy: 0.7996\n",
      "Epoch 50/50\n",
      "782/782 [==============================] - 6s 7ms/step - loss: 1.5214e-06 - accuracy: 1.0000 - val_loss: 3.2066 - val_accuracy: 0.7997\n"
     ]
    }
   ],
   "source": [
    "num_epochs = 50\n",
    "history = model.fit(padded, training_labels_final, epochs=num_epochs, validation_data=(testing_padded, testing_labels_final))"
   ]
  },
  {
   "cell_type": "code",
   "execution_count": 29,
   "metadata": {
    "colab": {
     "base_uri": "https://localhost:8080/",
     "height": 541
    },
    "id": "yA9aNWhLzhtG",
    "outputId": "98a052fc-11dc-458f-d683-9fa670acc26b"
   },
   "outputs": [
    {
     "data": {
      "image/png": "[encoded data removed]",
      "text/plain": [
       "<Figure size 432x288 with 1 Axes>"
      ]
     },
     "metadata": {
      "needs_background": "light",
      "tags": []
     },
     "output_type": "display_data"
    },
    {
     "data": {
      "image/png": "[encoded data removed]",
      "text/plain": [
       "<Figure size 432x288 with 1 Axes>"
      ]
     },
     "metadata": {
      "needs_background": "light",
      "tags": []
     },
     "output_type": "display_data"
    }
   ],
   "source": [
    "plot_graphs(history, 'accuracy')\n",
    "plot_graphs(history, 'loss')"
   ]
  },
  {
   "cell_type": "code",
   "execution_count": null,
   "metadata": {
    "id": "QqEM20rYziW1"
   },
   "outputs": [],
   "source": []
  }
 ],
 "metadata": {
  "accelerator": "GPU",
  "colab": {
   "collapsed_sections": [],
   "name": "Untitled5.ipynb",
   "provenance": []
  },
  "kernelspec": {
   "display_name": "Python 3",
   "language": "python",
   "name": "python3"
  },
  "language_info": {
   "codemirror_mode": {
    "name": "ipython",
    "version": 3
   },
   "file_extension": ".py",
   "mimetype": "text/x-python",
   "name": "python",
   "nbconvert_exporter": "python",
   "pygments_lexer": "ipython3",
   "version": "3.8.3"
  },
  "widgets": {
   "application/vnd.jupyter.widget-state+json": {
    "049a9162535641c89e6f8f939e416ab7": {
     "model_module": "@jupyter-widgets/controls",
     "model_name": "HBoxModel",
     "state": {
      "_dom_classes": [],
      "_model_module": "@jupyter-widgets/controls",
      "_model_module_version": "1.5.0",
      "_model_name": "HBoxModel",
      "_view_count": null,
      "_view_module": "@jupyter-widgets/controls",
      "_view_module_version": "1.5.0",
      "_view_name": "HBoxView",
      "box_style": "",
      "children": [
       "IPY_MODEL_60d34e3c76e542bfa711696bd314f216",
       "IPY_MODEL_6b28db1a5fae4a8e9b64527a8eb0bad1"
      ],
      "layout": "IPY_MODEL_84b097dfe7674ca4ac244c592948af33"
     }
    },
    "07ac054ee0ca43a89b63ff31f67522f0": {
     "model_module": "@jupyter-widgets/controls",
     "model_name": "HTMLModel",
     "state": {
      "_dom_classes": [],
      "_model_module": "@jupyter-widgets/controls",
      "_model_module_version": "1.5.0",
      "_model_name": "HTMLModel",
      "_view_count": null,
      "_view_module": "@jupyter-widgets/controls",
      "_view_module_version": "1.5.0",
      "_view_name": "HTMLView",
      "description": "",
      "description_tooltip": null,
      "layout": "IPY_MODEL_2863d60932d44b8ca93e894fce36cd4a",
      "placeholder": "​",
      "style": "IPY_MODEL_6fc26ad2d7f64f778cfeaaa877b9fd27",
      "value": " 29427/50000 [00:00&lt;00:00, 57365.20 examples/s]"
     }
    },
    "0b6a6a379de54a31b4bd98575d8ba98a": {
     "model_module": "@jupyter-widgets/controls",
     "model_name": "HBoxModel",
     "state": {
      "_dom_classes": [],
      "_model_module": "@jupyter-widgets/controls",
      "_model_module_version": "1.5.0",
      "_model_name": "HBoxModel",
      "_view_count": null,
      "_view_module": "@jupyter-widgets/controls",
      "_view_module_version": "1.5.0",
      "_view_name": "HBoxView",
      "box_style": "",
      "children": [
       "IPY_MODEL_6396b4edc5f546c7807daf5e1c4ab3bc",
       "IPY_MODEL_7196f537ca744c1f902b5158a7c35723"
      ],
      "layout": "IPY_MODEL_29d92d4634cd40f897d78b4c01c9ac2f"
     }
    },
    "0c6eda1ec2834a67a14b4ba366745458": {
     "model_module": "@jupyter-widgets/base",
     "model_name": "LayoutModel",
     "state": {
      "_model_module": "@jupyter-widgets/base",
      "_model_module_version": "1.2.0",
      "_model_name": "LayoutModel",
      "_view_count": null,
      "_view_module": "@jupyter-widgets/base",
      "_view_module_version": "1.2.0",
      "_view_name": "LayoutView",
      "align_content": null,
      "align_items": null,
      "align_self": null,
      "border": null,
      "bottom": null,
      "display": null,
      "flex": null,
      "flex_flow": null,
      "grid_area": null,
      "grid_auto_columns": null,
      "grid_auto_flow": null,
      "grid_auto_rows": null,
      "grid_column": null,
      "grid_gap": null,
      "grid_row": null,
      "grid_template_areas": null,
      "grid_template_columns": null,
      "grid_template_rows": null,
      "height": null,
      "justify_content": null,
      "justify_items": null,
      "left": null,
      "margin": null,
      "max_height": null,
      "max_width": null,
      "min_height": null,
      "min_width": null,
      "object_fit": null,
      "object_position": null,
      "order": null,
      "overflow": null,
      "overflow_x": null,
      "overflow_y": null,
      "padding": null,
      "right": null,
      "top": null,
      "visibility": null,
      "width": null
     }
    },
    "0f9c0a0c240b4b74a6c2a4a59c17ca31": {
     "model_module": "@jupyter-widgets/controls",
     "model_name": "HBoxModel",
     "state": {
      "_dom_classes": [],
      "_model_module": "@jupyter-widgets/controls",
      "_model_module_version": "1.5.0",
      "_model_name": "HBoxModel",
      "_view_count": null,
      "_view_module": "@jupyter-widgets/controls",
      "_view_module_version": "1.5.0",
      "_view_name": "HBoxView",
      "box_style": "",
      "children": [
       "IPY_MODEL_7c51cb8254694551901e5625652d2ecd",
       "IPY_MODEL_1f3caee1cc5b4d2c96833d643ed06fa2"
      ],
      "layout": "IPY_MODEL_6c02bf72e5fd46e99f8c951b0495d9fb"
     }
    },
    "111f5f34f95c45548331c1d3eebc1c3d": {
     "model_module": "@jupyter-widgets/base",
     "model_name": "LayoutModel",
     "state": {
      "_model_module": "@jupyter-widgets/base",
      "_model_module_version": "1.2.0",
      "_model_name": "LayoutModel",
      "_view_count": null,
      "_view_module": "@jupyter-widgets/base",
      "_view_module_version": "1.2.0",
      "_view_name": "LayoutView",
      "align_content": null,
      "align_items": null,
      "align_self": null,
      "border": null,
      "bottom": null,
      "display": null,
      "flex": null,
      "flex_flow": null,
      "grid_area": null,
      "grid_auto_columns": null,
      "grid_auto_flow": null,
      "grid_auto_rows": null,
      "grid_column": null,
      "grid_gap": null,
      "grid_row": null,
      "grid_template_areas": null,
      "grid_template_columns": null,
      "grid_template_rows": null,
      "height": null,
      "justify_content": null,
      "justify_items": null,
      "left": null,
      "margin": null,
      "max_height": null,
      "max_width": null,
      "min_height": null,
      "min_width": null,
      "object_fit": null,
      "object_position": null,
      "order": null,
      "overflow": null,
      "overflow_x": null,
      "overflow_y": null,
      "padding": null,
      "right": null,
      "top": null,
      "visibility": null,
      "width": null
     }
    },
    "16a79e81698b4d748592914bd43020a2": {
     "model_module": "@jupyter-widgets/controls",
     "model_name": "DescriptionStyleModel",
     "state": {
      "_model_module": "@jupyter-widgets/controls",
      "_model_module_version": "1.5.0",
      "_model_name": "DescriptionStyleModel",
      "_view_count": null,
      "_view_module": "@jupyter-widgets/base",
      "_view_module_version": "1.2.0",
      "_view_name": "StyleView",
      "description_width": ""
     }
    },
    "1ed309f802534209898a41f8868c75b1": {
     "model_module": "@jupyter-widgets/controls",
     "model_name": "HTMLModel",
     "state": {
      "_dom_classes": [],
      "_model_module": "@jupyter-widgets/controls",
      "_model_module_version": "1.5.0",
      "_model_name": "HTMLModel",
      "_view_count": null,
      "_view_module": "@jupyter-widgets/controls",
      "_view_module_version": "1.5.0",
      "_view_name": "HTMLView",
      "description": "",
      "description_tooltip": null,
      "layout": "IPY_MODEL_5e0503f465124a3ea3cc7fb8eaa0445c",
      "placeholder": "​",
      "style": "IPY_MODEL_6e612190bbe94300be0616406bc1f414",
      "value": " 25000/0 [00:12&lt;00:00, 3680.47 examples/s]"
     }
    },
    "1f3caee1cc5b4d2c96833d643ed06fa2": {
     "model_module": "@jupyter-widgets/controls",
     "model_name": "HTMLModel",
     "state": {
      "_dom_classes": [],
      "_model_module": "@jupyter-widgets/controls",
      "_model_module_version": "1.5.0",
      "_model_name": "HTMLModel",
      "_view_count": null,
      "_view_module": "@jupyter-widgets/controls",
      "_view_module_version": "1.5.0",
      "_view_name": "HTMLView",
      "description": "",
      "description_tooltip": null,
      "layout": "IPY_MODEL_88018f7f966147e4a097f1dfde0006c7",
      "placeholder": "​",
      "style": "IPY_MODEL_2eb37e38e6974358939bf71cb93d45d1",
      "value": " 0/0 [00:00&lt;?, ? MiB/s]"
     }
    },
    "2863d60932d44b8ca93e894fce36cd4a": {
     "model_module": "@jupyter-widgets/base",
     "model_name": "LayoutModel",
     "state": {
      "_model_module": "@jupyter-widgets/base",
      "_model_module_version": "1.2.0",
      "_model_name": "LayoutModel",
      "_view_count": null,
      "_view_module": "@jupyter-widgets/base",
      "_view_module_version": "1.2.0",
      "_view_name": "LayoutView",
      "align_content": null,
      "align_items": null,
      "align_self": null,
      "border": null,
      "bottom": null,
      "display": null,
      "flex": null,
      "flex_flow": null,
      "grid_area": null,
      "grid_auto_columns": null,
      "grid_auto_flow": null,
      "grid_auto_rows": null,
      "grid_column": null,
      "grid_gap": null,
      "grid_row": null,
      "grid_template_areas": null,
      "grid_template_columns": null,
      "grid_template_rows": null,
      "height": null,
      "justify_content": null,
      "justify_items": null,
      "left": null,
      "margin": null,
      "max_height": null,
      "max_width": null,
      "min_height": null,
      "min_width": null,
      "object_fit": null,
      "object_position": null,
      "order": null,
      "overflow": null,
      "overflow_x": null,
      "overflow_y": null,
      "padding": null,
      "right": null,
      "top": null,
      "visibility": null,
      "width": null
     }
    },
    "289cff790fde400fa6807f6c3823046e": {
     "model_module": "@jupyter-widgets/base",
     "model_name": "LayoutModel",
     "state": {
      "_model_module": "@jupyter-widgets/base",
      "_model_module_version": "1.2.0",
      "_model_name": "LayoutModel",
      "_view_count": null,
      "_view_module": "@jupyter-widgets/base",
      "_view_module_version": "1.2.0",
      "_view_name": "LayoutView",
      "align_content": null,
      "align_items": null,
      "align_self": null,
      "border": null,
      "bottom": null,
      "display": null,
      "flex": null,
      "flex_flow": null,
      "grid_area": null,
      "grid_auto_columns": null,
      "grid_auto_flow": null,
      "grid_auto_rows": null,
      "grid_column": null,
      "grid_gap": null,
      "grid_row": null,
      "grid_template_areas": null,
      "grid_template_columns": null,
      "grid_template_rows": null,
      "height": null,
      "justify_content": null,
      "justify_items": null,
      "left": null,
      "margin": null,
      "max_height": null,
      "max_width": null,
      "min_height": null,
      "min_width": null,
      "object_fit": null,
      "object_position": null,
      "order": null,
      "overflow": null,
      "overflow_x": null,
      "overflow_y": null,
      "padding": null,
      "right": null,
      "top": null,
      "visibility": null,
      "width": null
     }
    },
    "29d92d4634cd40f897d78b4c01c9ac2f": {
     "model_module": "@jupyter-widgets/base",
     "model_name": "LayoutModel",
     "state": {
      "_model_module": "@jupyter-widgets/base",
      "_model_module_version": "1.2.0",
      "_model_name": "LayoutModel",
      "_view_count": null,
      "_view_module": "@jupyter-widgets/base",
      "_view_module_version": "1.2.0",
      "_view_name": "LayoutView",
      "align_content": null,
      "align_items": null,
      "align_self": null,
      "border": null,
      "bottom": null,
      "display": null,
      "flex": null,
      "flex_flow": null,
      "grid_area": null,
      "grid_auto_columns": null,
      "grid_auto_flow": null,
      "grid_auto_rows": null,
      "grid_column": null,
      "grid_gap": null,
      "grid_row": null,
      "grid_template_areas": null,
      "grid_template_columns": null,
      "grid_template_rows": null,
      "height": null,
      "justify_content": null,
      "justify_items": null,
      "left": null,
      "margin": null,
      "max_height": null,
      "max_width": null,
      "min_height": null,
      "min_width": null,
      "object_fit": null,
      "object_position": null,
      "order": null,
      "overflow": null,
      "overflow_x": null,
      "overflow_y": null,
      "padding": null,
      "right": null,
      "top": null,
      "visibility": null,
      "width": null
     }
    },
    "2a4c824c5ceb44c5a64918896d1879ab": {
     "model_module": "@jupyter-widgets/controls",
     "model_name": "FloatProgressModel",
     "state": {
      "_dom_classes": [],
      "_model_module": "@jupyter-widgets/controls",
      "_model_module_version": "1.5.0",
      "_model_name": "FloatProgressModel",
      "_view_count": null,
      "_view_module": "@jupyter-widgets/controls",
      "_view_module_version": "1.5.0",
      "_view_name": "ProgressView",
      "bar_style": "info",
      "description": "",
      "description_tooltip": null,
      "layout": "IPY_MODEL_90268e67af0f4fe9bae6e5b46f0e5dd2",
      "max": 1,
      "min": 0,
      "orientation": "horizontal",
      "style": "IPY_MODEL_4f7cd6bf1ca041448cee2509ae23e997",
      "value": 1
     }
    },
    "2e1db999197947088bf4ca2457bb85c2": {
     "model_module": "@jupyter-widgets/controls",
     "model_name": "ProgressStyleModel",
     "state": {
      "_model_module": "@jupyter-widgets/controls",
      "_model_module_version": "1.5.0",
      "_model_name": "ProgressStyleModel",
      "_view_count": null,
      "_view_module": "@jupyter-widgets/base",
      "_view_module_version": "1.2.0",
      "_view_name": "StyleView",
      "bar_color": null,
      "description_width": "initial"
     }
    },
    "2eb37e38e6974358939bf71cb93d45d1": {
     "model_module": "@jupyter-widgets/controls",
     "model_name": "DescriptionStyleModel",
     "state": {
      "_model_module": "@jupyter-widgets/controls",
      "_model_module_version": "1.5.0",
      "_model_name": "DescriptionStyleModel",
      "_view_count": null,
      "_view_module": "@jupyter-widgets/base",
      "_view_module_version": "1.2.0",
      "_view_name": "StyleView",
      "description_width": ""
     }
    },
    "39fcabcaa81a4c23a0ac1a4e6b3bd426": {
     "model_module": "@jupyter-widgets/base",
     "model_name": "LayoutModel",
     "state": {
      "_model_module": "@jupyter-widgets/base",
      "_model_module_version": "1.2.0",
      "_model_name": "LayoutModel",
      "_view_count": null,
      "_view_module": "@jupyter-widgets/base",
      "_view_module_version": "1.2.0",
      "_view_name": "LayoutView",
      "align_content": null,
      "align_items": null,
      "align_self": null,
      "border": null,
      "bottom": null,
      "display": null,
      "flex": null,
      "flex_flow": null,
      "grid_area": null,
      "grid_auto_columns": null,
      "grid_auto_flow": null,
      "grid_auto_rows": null,
      "grid_column": null,
      "grid_gap": null,
      "grid_row": null,
      "grid_template_areas": null,
      "grid_template_columns": null,
      "grid_template_rows": null,
      "height": null,
      "justify_content": null,
      "justify_items": null,
      "left": null,
      "margin": null,
      "max_height": null,
      "max_width": null,
      "min_height": null,
      "min_width": null,
      "object_fit": null,
      "object_position": null,
      "order": null,
      "overflow": null,
      "overflow_x": null,
      "overflow_y": null,
      "padding": null,
      "right": null,
      "top": null,
      "visibility": null,
      "width": null
     }
    },
    "414eddc0fc4c4153a824bc53714a2649": {
     "model_module": "@jupyter-widgets/base",
     "model_name": "LayoutModel",
     "state": {
      "_model_module": "@jupyter-widgets/base",
      "_model_module_version": "1.2.0",
      "_model_name": "LayoutModel",
      "_view_count": null,
      "_view_module": "@jupyter-widgets/base",
      "_view_module_version": "1.2.0",
      "_view_name": "LayoutView",
      "align_content": null,
      "align_items": null,
      "align_self": null,
      "border": null,
      "bottom": null,
      "display": null,
      "flex": null,
      "flex_flow": null,
      "grid_area": null,
      "grid_auto_columns": null,
      "grid_auto_flow": null,
      "grid_auto_rows": null,
      "grid_column": null,
      "grid_gap": null,
      "grid_row": null,
      "grid_template_areas": null,
      "grid_template_columns": null,
      "grid_template_rows": null,
      "height": null,
      "justify_content": null,
      "justify_items": null,
      "left": null,
      "margin": null,
      "max_height": null,
      "max_width": null,
      "min_height": null,
      "min_width": null,
      "object_fit": null,
      "object_position": null,
      "order": null,
      "overflow": null,
      "overflow_x": null,
      "overflow_y": null,
      "padding": null,
      "right": null,
      "top": null,
      "visibility": null,
      "width": null
     }
    },
    "42950dd798614461881e2e92d28b3064": {
     "model_module": "@jupyter-widgets/controls",
     "model_name": "ProgressStyleModel",
     "state": {
      "_model_module": "@jupyter-widgets/controls",
      "_model_module_version": "1.5.0",
      "_model_name": "ProgressStyleModel",
      "_view_count": null,
      "_view_module": "@jupyter-widgets/base",
      "_view_module_version": "1.2.0",
      "_view_name": "StyleView",
      "bar_color": null,
      "description_width": "initial"
     }
    },
    "43412743a9b847e1a08f201d34e2037f": {
     "model_module": "@jupyter-widgets/controls",
     "model_name": "ProgressStyleModel",
     "state": {
      "_model_module": "@jupyter-widgets/controls",
      "_model_module_version": "1.5.0",
      "_model_name": "ProgressStyleModel",
      "_view_count": null,
      "_view_module": "@jupyter-widgets/base",
      "_view_module_version": "1.2.0",
      "_view_name": "StyleView",
      "bar_color": null,
      "description_width": "initial"
     }
    },
    "48c2f5be8a3248158190f96dacb92bf2": {
     "model_module": "@jupyter-widgets/base",
     "model_name": "LayoutModel",
     "state": {
      "_model_module": "@jupyter-widgets/base",
      "_model_module_version": "1.2.0",
      "_model_name": "LayoutModel",
      "_view_count": null,
      "_view_module": "@jupyter-widgets/base",
      "_view_module_version": "1.2.0",
      "_view_name": "LayoutView",
      "align_content": null,
      "align_items": null,
      "align_self": null,
      "border": null,
      "bottom": null,
      "display": null,
      "flex": null,
      "flex_flow": null,
      "grid_area": null,
      "grid_auto_columns": null,
      "grid_auto_flow": null,
      "grid_auto_rows": null,
      "grid_column": null,
      "grid_gap": null,
      "grid_row": null,
      "grid_template_areas": null,
      "grid_template_columns": null,
      "grid_template_rows": null,
      "height": null,
      "justify_content": null,
      "justify_items": null,
      "left": null,
      "margin": null,
      "max_height": null,
      "max_width": null,
      "min_height": null,
      "min_width": null,
      "object_fit": null,
      "object_position": null,
      "order": null,
      "overflow": null,
      "overflow_x": null,
      "overflow_y": null,
      "padding": null,
      "right": null,
      "top": null,
      "visibility": null,
      "width": null
     }
    },
    "4f7cd6bf1ca041448cee2509ae23e997": {
     "model_module": "@jupyter-widgets/controls",
     "model_name": "ProgressStyleModel",
     "state": {
      "_model_module": "@jupyter-widgets/controls",
      "_model_module_version": "1.5.0",
      "_model_name": "ProgressStyleModel",
      "_view_count": null,
      "_view_module": "@jupyter-widgets/base",
      "_view_module_version": "1.2.0",
      "_view_name": "StyleView",
      "bar_color": null,
      "description_width": "initial"
     }
    },
    "5266f904b1ff4146bf2fbfdf019c291d": {
     "model_module": "@jupyter-widgets/controls",
     "model_name": "HTMLModel",
     "state": {
      "_dom_classes": [],
      "_model_module": "@jupyter-widgets/controls",
      "_model_module_version": "1.5.0",
      "_model_name": "HTMLModel",
      "_view_count": null,
      "_view_module": "@jupyter-widgets/controls",
      "_view_module_version": "1.5.0",
      "_view_name": "HTMLView",
      "description": "",
      "description_tooltip": null,
      "layout": "IPY_MODEL_54fbef0475c34acc9db6a89e48f0ae32",
      "placeholder": "​",
      "style": "IPY_MODEL_16a79e81698b4d748592914bd43020a2",
      "value": " 50000/0 [00:18&lt;00:00, 3286.42 examples/s]"
     }
    },
    "54fbef0475c34acc9db6a89e48f0ae32": {
     "model_module": "@jupyter-widgets/base",
     "model_name": "LayoutModel",
     "state": {
      "_model_module": "@jupyter-widgets/base",
      "_model_module_version": "1.2.0",
      "_model_name": "LayoutModel",
      "_view_count": null,
      "_view_module": "@jupyter-widgets/base",
      "_view_module_version": "1.2.0",
      "_view_name": "LayoutView",
      "align_content": null,
      "align_items": null,
      "align_self": null,
      "border": null,
      "bottom": null,
      "display": null,
      "flex": null,
      "flex_flow": null,
      "grid_area": null,
      "grid_auto_columns": null,
      "grid_auto_flow": null,
      "grid_auto_rows": null,
      "grid_column": null,
      "grid_gap": null,
      "grid_row": null,
      "grid_template_areas": null,
      "grid_template_columns": null,
      "grid_template_rows": null,
      "height": null,
      "justify_content": null,
      "justify_items": null,
      "left": null,
      "margin": null,
      "max_height": null,
      "max_width": null,
      "min_height": null,
      "min_width": null,
      "object_fit": null,
      "object_position": null,
      "order": null,
      "overflow": null,
      "overflow_x": null,
      "overflow_y": null,
      "padding": null,
      "right": null,
      "top": null,
      "visibility": null,
      "width": null
     }
    },
    "57341117dcbe43268efa2f90b54ea479": {
     "model_module": "@jupyter-widgets/base",
     "model_name": "LayoutModel",
     "state": {
      "_model_module": "@jupyter-widgets/base",
      "_model_module_version": "1.2.0",
      "_model_name": "LayoutModel",
      "_view_count": null,
      "_view_module": "@jupyter-widgets/base",
      "_view_module_version": "1.2.0",
      "_view_name": "LayoutView",
      "align_content": null,
      "align_items": null,
      "align_self": null,
      "border": null,
      "bottom": null,
      "display": null,
      "flex": null,
      "flex_flow": null,
      "grid_area": null,
      "grid_auto_columns": null,
      "grid_auto_flow": null,
      "grid_auto_rows": null,
      "grid_column": null,
      "grid_gap": null,
      "grid_row": null,
      "grid_template_areas": null,
      "grid_template_columns": null,
      "grid_template_rows": null,
      "height": null,
      "justify_content": null,
      "justify_items": null,
      "left": null,
      "margin": null,
      "max_height": null,
      "max_width": null,
      "min_height": null,
      "min_width": null,
      "object_fit": null,
      "object_position": null,
      "order": null,
      "overflow": null,
      "overflow_x": null,
      "overflow_y": null,
      "padding": null,
      "right": null,
      "top": null,
      "visibility": null,
      "width": null
     }
    },
    "580489b817184b19b1b84dfb34603a07": {
     "model_module": "@jupyter-widgets/base",
     "model_name": "LayoutModel",
     "state": {
      "_model_module": "@jupyter-widgets/base",
      "_model_module_version": "1.2.0",
      "_model_name": "LayoutModel",
      "_view_count": null,
      "_view_module": "@jupyter-widgets/base",
      "_view_module_version": "1.2.0",
      "_view_name": "LayoutView",
      "align_content": null,
      "align_items": null,
      "align_self": null,
      "border": null,
      "bottom": null,
      "display": null,
      "flex": null,
      "flex_flow": null,
      "grid_area": null,
      "grid_auto_columns": null,
      "grid_auto_flow": null,
      "grid_auto_rows": null,
      "grid_column": null,
      "grid_gap": null,
      "grid_row": null,
      "grid_template_areas": null,
      "grid_template_columns": null,
      "grid_template_rows": null,
      "height": null,
      "justify_content": null,
      "justify_items": null,
      "left": null,
      "margin": null,
      "max_height": null,
      "max_width": null,
      "min_height": null,
      "min_width": null,
      "object_fit": null,
      "object_position": null,
      "order": null,
      "overflow": null,
      "overflow_x": null,
      "overflow_y": null,
      "padding": null,
      "right": null,
      "top": null,
      "visibility": null,
      "width": null
     }
    },
    "5e0503f465124a3ea3cc7fb8eaa0445c": {
     "model_module": "@jupyter-widgets/base",
     "model_name": "LayoutModel",
     "state": {
      "_model_module": "@jupyter-widgets/base",
      "_model_module_version": "1.2.0",
      "_model_name": "LayoutModel",
      "_view_count": null,
      "_view_module": "@jupyter-widgets/base",
      "_view_module_version": "1.2.0",
      "_view_name": "LayoutView",
      "align_content": null,
      "align_items": null,
      "align_self": null,
      "border": null,
      "bottom": null,
      "display": null,
      "flex": null,
      "flex_flow": null,
      "grid_area": null,
      "grid_auto_columns": null,
      "grid_auto_flow": null,
      "grid_auto_rows": null,
      "grid_column": null,
      "grid_gap": null,
      "grid_row": null,
      "grid_template_areas": null,
      "grid_template_columns": null,
      "grid_template_rows": null,
      "height": null,
      "justify_content": null,
      "justify_items": null,
      "left": null,
      "margin": null,
      "max_height": null,
      "max_width": null,
      "min_height": null,
      "min_width": null,
      "object_fit": null,
      "object_position": null,
      "order": null,
      "overflow": null,
      "overflow_x": null,
      "overflow_y": null,
      "padding": null,
      "right": null,
      "top": null,
      "visibility": null,
      "width": null
     }
    },
    "5eb2865fb981426095710af7551a27ff": {
     "model_module": "@jupyter-widgets/controls",
     "model_name": "HBoxModel",
     "state": {
      "_dom_classes": [],
      "_model_module": "@jupyter-widgets/controls",
      "_model_module_version": "1.5.0",
      "_model_name": "HBoxModel",
      "_view_count": null,
      "_view_module": "@jupyter-widgets/controls",
      "_view_module_version": "1.5.0",
      "_view_name": "HBoxView",
      "box_style": "",
      "children": [
       "IPY_MODEL_e74d7a0f048d418292cd986a85cd4c22",
       "IPY_MODEL_762e3409582c404dad6daa4550f8de28"
      ],
      "layout": "IPY_MODEL_111f5f34f95c45548331c1d3eebc1c3d"
     }
    },
    "5f21e4394b5d478091549a7935492978": {
     "model_module": "@jupyter-widgets/controls",
     "model_name": "DescriptionStyleModel",
     "state": {
      "_model_module": "@jupyter-widgets/controls",
      "_model_module_version": "1.5.0",
      "_model_name": "DescriptionStyleModel",
      "_view_count": null,
      "_view_module": "@jupyter-widgets/base",
      "_view_module_version": "1.2.0",
      "_view_name": "StyleView",
      "description_width": ""
     }
    },
    "60d34e3c76e542bfa711696bd314f216": {
     "model_module": "@jupyter-widgets/controls",
     "model_name": "FloatProgressModel",
     "state": {
      "_dom_classes": [],
      "_model_module": "@jupyter-widgets/controls",
      "_model_module_version": "1.5.0",
      "_model_name": "FloatProgressModel",
      "_view_count": null,
      "_view_module": "@jupyter-widgets/controls",
      "_view_module_version": "1.5.0",
      "_view_name": "ProgressView",
      "bar_style": "danger",
      "description": " 49%",
      "description_tooltip": null,
      "layout": "IPY_MODEL_57341117dcbe43268efa2f90b54ea479",
      "max": 25000,
      "min": 0,
      "orientation": "horizontal",
      "style": "IPY_MODEL_2e1db999197947088bf4ca2457bb85c2",
      "value": 12227
     }
    },
    "616db11e19b043d39f5d0c0d1f773fe6": {
     "model_module": "@jupyter-widgets/base",
     "model_name": "LayoutModel",
     "state": {
      "_model_module": "@jupyter-widgets/base",
      "_model_module_version": "1.2.0",
      "_model_name": "LayoutModel",
      "_view_count": null,
      "_view_module": "@jupyter-widgets/base",
      "_view_module_version": "1.2.0",
      "_view_name": "LayoutView",
      "align_content": null,
      "align_items": null,
      "align_self": null,
      "border": null,
      "bottom": null,
      "display": null,
      "flex": null,
      "flex_flow": null,
      "grid_area": null,
      "grid_auto_columns": null,
      "grid_auto_flow": null,
      "grid_auto_rows": null,
      "grid_column": null,
      "grid_gap": null,
      "grid_row": null,
      "grid_template_areas": null,
      "grid_template_columns": null,
      "grid_template_rows": null,
      "height": null,
      "justify_content": null,
      "justify_items": null,
      "left": null,
      "margin": null,
      "max_height": null,
      "max_width": null,
      "min_height": null,
      "min_width": null,
      "object_fit": null,
      "object_position": null,
      "order": null,
      "overflow": null,
      "overflow_x": null,
      "overflow_y": null,
      "padding": null,
      "right": null,
      "top": null,
      "visibility": null,
      "width": null
     }
    },
    "61e1675ef26e4a6789fccd630a664b5c": {
     "model_module": "@jupyter-widgets/controls",
     "model_name": "HBoxModel",
     "state": {
      "_dom_classes": [],
      "_model_module": "@jupyter-widgets/controls",
      "_model_module_version": "1.5.0",
      "_model_name": "HBoxModel",
      "_view_count": null,
      "_view_module": "@jupyter-widgets/controls",
      "_view_module_version": "1.5.0",
      "_view_name": "HBoxView",
      "box_style": "",
      "children": [
       "IPY_MODEL_2a4c824c5ceb44c5a64918896d1879ab",
       "IPY_MODEL_1ed309f802534209898a41f8868c75b1"
      ],
      "layout": "IPY_MODEL_616db11e19b043d39f5d0c0d1f773fe6"
     }
    },
    "6396b4edc5f546c7807daf5e1c4ab3bc": {
     "model_module": "@jupyter-widgets/controls",
     "model_name": "FloatProgressModel",
     "state": {
      "_dom_classes": [],
      "_model_module": "@jupyter-widgets/controls",
      "_model_module_version": "1.5.0",
      "_model_name": "FloatProgressModel",
      "_view_count": null,
      "_view_module": "@jupyter-widgets/controls",
      "_view_module_version": "1.5.0",
      "_view_name": "ProgressView",
      "bar_style": "info",
      "description": "",
      "description_tooltip": null,
      "layout": "IPY_MODEL_7e663b72f5a04f39a6995f4bf4d5fb0f",
      "max": 1,
      "min": 0,
      "orientation": "horizontal",
      "style": "IPY_MODEL_ee171155edab49959e279ec8af9b7782",
      "value": 1
     }
    },
    "6514fbc23820485ca7bc10dff44fb4c4": {
     "model_module": "@jupyter-widgets/base",
     "model_name": "LayoutModel",
     "state": {
      "_model_module": "@jupyter-widgets/base",
      "_model_module_version": "1.2.0",
      "_model_name": "LayoutModel",
      "_view_count": null,
      "_view_module": "@jupyter-widgets/base",
      "_view_module_version": "1.2.0",
      "_view_name": "LayoutView",
      "align_content": null,
      "align_items": null,
      "align_self": null,
      "border": null,
      "bottom": null,
      "display": null,
      "flex": null,
      "flex_flow": null,
      "grid_area": null,
      "grid_auto_columns": null,
      "grid_auto_flow": null,
      "grid_auto_rows": null,
      "grid_column": null,
      "grid_gap": null,
      "grid_row": null,
      "grid_template_areas": null,
      "grid_template_columns": null,
      "grid_template_rows": null,
      "height": null,
      "justify_content": null,
      "justify_items": null,
      "left": null,
      "margin": null,
      "max_height": null,
      "max_width": null,
      "min_height": null,
      "min_width": null,
      "object_fit": null,
      "object_position": null,
      "order": null,
      "overflow": null,
      "overflow_x": null,
      "overflow_y": null,
      "padding": null,
      "right": null,
      "top": null,
      "visibility": null,
      "width": null
     }
    },
    "69378b0fefa9438f9b887d90103d555b": {
     "model_module": "@jupyter-widgets/controls",
     "model_name": "ProgressStyleModel",
     "state": {
      "_model_module": "@jupyter-widgets/controls",
      "_model_module_version": "1.5.0",
      "_model_name": "ProgressStyleModel",
      "_view_count": null,
      "_view_module": "@jupyter-widgets/base",
      "_view_module_version": "1.2.0",
      "_view_name": "StyleView",
      "bar_color": null,
      "description_width": "initial"
     }
    },
    "6b28db1a5fae4a8e9b64527a8eb0bad1": {
     "model_module": "@jupyter-widgets/controls",
     "model_name": "HTMLModel",
     "state": {
      "_dom_classes": [],
      "_model_module": "@jupyter-widgets/controls",
      "_model_module_version": "1.5.0",
      "_model_name": "HTMLModel",
      "_view_count": null,
      "_view_module": "@jupyter-widgets/controls",
      "_view_module_version": "1.5.0",
      "_view_name": "HTMLView",
      "description": "",
      "description_tooltip": null,
      "layout": "IPY_MODEL_414eddc0fc4c4153a824bc53714a2649",
      "placeholder": "​",
      "style": "IPY_MODEL_9ac88b7407aa42069dfcfa5ae9f1514e",
      "value": " 12227/25000 [00:00&lt;00:00, 122269.83 examples/s]"
     }
    },
    "6c02bf72e5fd46e99f8c951b0495d9fb": {
     "model_module": "@jupyter-widgets/base",
     "model_name": "LayoutModel",
     "state": {
      "_model_module": "@jupyter-widgets/base",
      "_model_module_version": "1.2.0",
      "_model_name": "LayoutModel",
      "_view_count": null,
      "_view_module": "@jupyter-widgets/base",
      "_view_module_version": "1.2.0",
      "_view_name": "LayoutView",
      "align_content": null,
      "align_items": null,
      "align_self": null,
      "border": null,
      "bottom": null,
      "display": null,
      "flex": null,
      "flex_flow": null,
      "grid_area": null,
      "grid_auto_columns": null,
      "grid_auto_flow": null,
      "grid_auto_rows": null,
      "grid_column": null,
      "grid_gap": null,
      "grid_row": null,
      "grid_template_areas": null,
      "grid_template_columns": null,
      "grid_template_rows": null,
      "height": null,
      "justify_content": null,
      "justify_items": null,
      "left": null,
      "margin": null,
      "max_height": null,
      "max_width": null,
      "min_height": null,
      "min_width": null,
      "object_fit": null,
      "object_position": null,
      "order": null,
      "overflow": null,
      "overflow_x": null,
      "overflow_y": null,
      "padding": null,
      "right": null,
      "top": null,
      "visibility": null,
      "width": null
     }
    },
    "6e612190bbe94300be0616406bc1f414": {
     "model_module": "@jupyter-widgets/controls",
     "model_name": "DescriptionStyleModel",
     "state": {
      "_model_module": "@jupyter-widgets/controls",
      "_model_module_version": "1.5.0",
      "_model_name": "DescriptionStyleModel",
      "_view_count": null,
      "_view_module": "@jupyter-widgets/base",
      "_view_module_version": "1.2.0",
      "_view_name": "StyleView",
      "description_width": ""
     }
    },
    "6fc26ad2d7f64f778cfeaaa877b9fd27": {
     "model_module": "@jupyter-widgets/controls",
     "model_name": "DescriptionStyleModel",
     "state": {
      "_model_module": "@jupyter-widgets/controls",
      "_model_module_version": "1.5.0",
      "_model_name": "DescriptionStyleModel",
      "_view_count": null,
      "_view_module": "@jupyter-widgets/base",
      "_view_module_version": "1.2.0",
      "_view_name": "StyleView",
      "description_width": ""
     }
    },
    "7196f537ca744c1f902b5158a7c35723": {
     "model_module": "@jupyter-widgets/controls",
     "model_name": "HTMLModel",
     "state": {
      "_dom_classes": [],
      "_model_module": "@jupyter-widgets/controls",
      "_model_module_version": "1.5.0",
      "_model_name": "HTMLModel",
      "_view_count": null,
      "_view_module": "@jupyter-widgets/controls",
      "_view_module_version": "1.5.0",
      "_view_name": "HTMLView",
      "description": "",
      "description_tooltip": null,
      "layout": "IPY_MODEL_580489b817184b19b1b84dfb34603a07",
      "placeholder": "​",
      "style": "IPY_MODEL_5f21e4394b5d478091549a7935492978",
      "value": " 25000/0 [00:13&lt;00:00, 3430.94 examples/s]"
     }
    },
    "721200b4d98149e2bbf39c976751ae08": {
     "model_module": "@jupyter-widgets/base",
     "model_name": "LayoutModel",
     "state": {
      "_model_module": "@jupyter-widgets/base",
      "_model_module_version": "1.2.0",
      "_model_name": "LayoutModel",
      "_view_count": null,
      "_view_module": "@jupyter-widgets/base",
      "_view_module_version": "1.2.0",
      "_view_name": "LayoutView",
      "align_content": null,
      "align_items": null,
      "align_self": null,
      "border": null,
      "bottom": null,
      "display": null,
      "flex": null,
      "flex_flow": null,
      "grid_area": null,
      "grid_auto_columns": null,
      "grid_auto_flow": null,
      "grid_auto_rows": null,
      "grid_column": null,
      "grid_gap": null,
      "grid_row": null,
      "grid_template_areas": null,
      "grid_template_columns": null,
      "grid_template_rows": null,
      "height": null,
      "justify_content": null,
      "justify_items": null,
      "left": null,
      "margin": null,
      "max_height": null,
      "max_width": null,
      "min_height": null,
      "min_width": null,
      "object_fit": null,
      "object_position": null,
      "order": null,
      "overflow": null,
      "overflow_x": null,
      "overflow_y": null,
      "padding": null,
      "right": null,
      "top": null,
      "visibility": null,
      "width": null
     }
    },
    "762e3409582c404dad6daa4550f8de28": {
     "model_module": "@jupyter-widgets/controls",
     "model_name": "HTMLModel",
     "state": {
      "_dom_classes": [],
      "_model_module": "@jupyter-widgets/controls",
      "_model_module_version": "1.5.0",
      "_model_name": "HTMLModel",
      "_view_count": null,
      "_view_module": "@jupyter-widgets/controls",
      "_view_module_version": "1.5.0",
      "_view_name": "HTMLView",
      "description": "",
      "description_tooltip": null,
      "layout": "IPY_MODEL_be7ffd992aaf4bf58e70626f62b282d1",
      "placeholder": "​",
      "style": "IPY_MODEL_89b4466c69af47b4b5a1971c682ff29f",
      "value": " 0/0 [00:00&lt;?, ? url/s]"
     }
    },
    "79e1135b4d6145ffb8c2cbd364d561a4": {
     "model_module": "@jupyter-widgets/controls",
     "model_name": "FloatProgressModel",
     "state": {
      "_dom_classes": [],
      "_model_module": "@jupyter-widgets/controls",
      "_model_module_version": "1.5.0",
      "_model_name": "FloatProgressModel",
      "_view_count": null,
      "_view_module": "@jupyter-widgets/controls",
      "_view_module_version": "1.5.0",
      "_view_name": "ProgressView",
      "bar_style": "danger",
      "description": " 36%",
      "description_tooltip": null,
      "layout": "IPY_MODEL_39fcabcaa81a4c23a0ac1a4e6b3bd426",
      "max": 25000,
      "min": 0,
      "orientation": "horizontal",
      "style": "IPY_MODEL_43412743a9b847e1a08f201d34e2037f",
      "value": 9109
     }
    },
    "7c51cb8254694551901e5625652d2ecd": {
     "model_module": "@jupyter-widgets/controls",
     "model_name": "FloatProgressModel",
     "state": {
      "_dom_classes": [],
      "_model_module": "@jupyter-widgets/controls",
      "_model_module_version": "1.5.0",
      "_model_name": "FloatProgressModel",
      "_view_count": null,
      "_view_module": "@jupyter-widgets/controls",
      "_view_module_version": "1.5.0",
      "_view_name": "ProgressView",
      "bar_style": "success",
      "description": "Dl Size...: ",
      "description_tooltip": null,
      "layout": "IPY_MODEL_48c2f5be8a3248158190f96dacb92bf2",
      "max": 1,
      "min": 0,
      "orientation": "horizontal",
      "style": "IPY_MODEL_c58ded37b85547f480938da88e8570ee",
      "value": 0
     }
    },
    "7e663b72f5a04f39a6995f4bf4d5fb0f": {
     "model_module": "@jupyter-widgets/base",
     "model_name": "LayoutModel",
     "state": {
      "_model_module": "@jupyter-widgets/base",
      "_model_module_version": "1.2.0",
      "_model_name": "LayoutModel",
      "_view_count": null,
      "_view_module": "@jupyter-widgets/base",
      "_view_module_version": "1.2.0",
      "_view_name": "LayoutView",
      "align_content": null,
      "align_items": null,
      "align_self": null,
      "border": null,
      "bottom": null,
      "display": null,
      "flex": null,
      "flex_flow": null,
      "grid_area": null,
      "grid_auto_columns": null,
      "grid_auto_flow": null,
      "grid_auto_rows": null,
      "grid_column": null,
      "grid_gap": null,
      "grid_row": null,
      "grid_template_areas": null,
      "grid_template_columns": null,
      "grid_template_rows": null,
      "height": null,
      "justify_content": null,
      "justify_items": null,
      "left": null,
      "margin": null,
      "max_height": null,
      "max_width": null,
      "min_height": null,
      "min_width": null,
      "object_fit": null,
      "object_position": null,
      "order": null,
      "overflow": null,
      "overflow_x": null,
      "overflow_y": null,
      "padding": null,
      "right": null,
      "top": null,
      "visibility": null,
      "width": null
     }
    },
    "84b097dfe7674ca4ac244c592948af33": {
     "model_module": "@jupyter-widgets/base",
     "model_name": "LayoutModel",
     "state": {
      "_model_module": "@jupyter-widgets/base",
      "_model_module_version": "1.2.0",
      "_model_name": "LayoutModel",
      "_view_count": null,
      "_view_module": "@jupyter-widgets/base",
      "_view_module_version": "1.2.0",
      "_view_name": "LayoutView",
      "align_content": null,
      "align_items": null,
      "align_self": null,
      "border": null,
      "bottom": null,
      "display": null,
      "flex": null,
      "flex_flow": null,
      "grid_area": null,
      "grid_auto_columns": null,
      "grid_auto_flow": null,
      "grid_auto_rows": null,
      "grid_column": null,
      "grid_gap": null,
      "grid_row": null,
      "grid_template_areas": null,
      "grid_template_columns": null,
      "grid_template_rows": null,
      "height": null,
      "justify_content": null,
      "justify_items": null,
      "left": null,
      "margin": null,
      "max_height": null,
      "max_width": null,
      "min_height": null,
      "min_width": null,
      "object_fit": null,
      "object_position": null,
      "order": null,
      "overflow": null,
      "overflow_x": null,
      "overflow_y": null,
      "padding": null,
      "right": null,
      "top": null,
      "visibility": null,
      "width": null
     }
    },
    "88018f7f966147e4a097f1dfde0006c7": {
     "model_module": "@jupyter-widgets/base",
     "model_name": "LayoutModel",
     "state": {
      "_model_module": "@jupyter-widgets/base",
      "_model_module_version": "1.2.0",
      "_model_name": "LayoutModel",
      "_view_count": null,
      "_view_module": "@jupyter-widgets/base",
      "_view_module_version": "1.2.0",
      "_view_name": "LayoutView",
      "align_content": null,
      "align_items": null,
      "align_self": null,
      "border": null,
      "bottom": null,
      "display": null,
      "flex": null,
      "flex_flow": null,
      "grid_area": null,
      "grid_auto_columns": null,
      "grid_auto_flow": null,
      "grid_auto_rows": null,
      "grid_column": null,
      "grid_gap": null,
      "grid_row": null,
      "grid_template_areas": null,
      "grid_template_columns": null,
      "grid_template_rows": null,
      "height": null,
      "justify_content": null,
      "justify_items": null,
      "left": null,
      "margin": null,
      "max_height": null,
      "max_width": null,
      "min_height": null,
      "min_width": null,
      "object_fit": null,
      "object_position": null,
      "order": null,
      "overflow": null,
      "overflow_x": null,
      "overflow_y": null,
      "padding": null,
      "right": null,
      "top": null,
      "visibility": null,
      "width": null
     }
    },
    "89b4466c69af47b4b5a1971c682ff29f": {
     "model_module": "@jupyter-widgets/controls",
     "model_name": "DescriptionStyleModel",
     "state": {
      "_model_module": "@jupyter-widgets/controls",
      "_model_module_version": "1.5.0",
      "_model_name": "DescriptionStyleModel",
      "_view_count": null,
      "_view_module": "@jupyter-widgets/base",
      "_view_module_version": "1.2.0",
      "_view_name": "StyleView",
      "description_width": ""
     }
    },
    "90268e67af0f4fe9bae6e5b46f0e5dd2": {
     "model_module": "@jupyter-widgets/base",
     "model_name": "LayoutModel",
     "state": {
      "_model_module": "@jupyter-widgets/base",
      "_model_module_version": "1.2.0",
      "_model_name": "LayoutModel",
      "_view_count": null,
      "_view_module": "@jupyter-widgets/base",
      "_view_module_version": "1.2.0",
      "_view_name": "LayoutView",
      "align_content": null,
      "align_items": null,
      "align_self": null,
      "border": null,
      "bottom": null,
      "display": null,
      "flex": null,
      "flex_flow": null,
      "grid_area": null,
      "grid_auto_columns": null,
      "grid_auto_flow": null,
      "grid_auto_rows": null,
      "grid_column": null,
      "grid_gap": null,
      "grid_row": null,
      "grid_template_areas": null,
      "grid_template_columns": null,
      "grid_template_rows": null,
      "height": null,
      "justify_content": null,
      "justify_items": null,
      "left": null,
      "margin": null,
      "max_height": null,
      "max_width": null,
      "min_height": null,
      "min_width": null,
      "object_fit": null,
      "object_position": null,
      "order": null,
      "overflow": null,
      "overflow_x": null,
      "overflow_y": null,
      "padding": null,
      "right": null,
      "top": null,
      "visibility": null,
      "width": null
     }
    },
    "942587e2672a4a01837a79de40f0a9bb": {
     "model_module": "@jupyter-widgets/controls",
     "model_name": "DescriptionStyleModel",
     "state": {
      "_model_module": "@jupyter-widgets/controls",
      "_model_module_version": "1.5.0",
      "_model_name": "DescriptionStyleModel",
      "_view_count": null,
      "_view_module": "@jupyter-widgets/base",
      "_view_module_version": "1.2.0",
      "_view_name": "StyleView",
      "description_width": ""
     }
    },
    "97725d21f9fa40839141a4136fdd1124": {
     "model_module": "@jupyter-widgets/controls",
     "model_name": "FloatProgressModel",
     "state": {
      "_dom_classes": [],
      "_model_module": "@jupyter-widgets/controls",
      "_model_module_version": "1.5.0",
      "_model_name": "FloatProgressModel",
      "_view_count": null,
      "_view_module": "@jupyter-widgets/controls",
      "_view_module_version": "1.5.0",
      "_view_name": "ProgressView",
      "bar_style": "info",
      "description": "",
      "description_tooltip": null,
      "layout": "IPY_MODEL_289cff790fde400fa6807f6c3823046e",
      "max": 1,
      "min": 0,
      "orientation": "horizontal",
      "style": "IPY_MODEL_d755719dc17f40b1bb326742c8f78839",
      "value": 1
     }
    },
    "99f4f176e0504f92b2bcbd528958bfb2": {
     "model_module": "@jupyter-widgets/base",
     "model_name": "LayoutModel",
     "state": {
      "_model_module": "@jupyter-widgets/base",
      "_model_module_version": "1.2.0",
      "_model_name": "LayoutModel",
      "_view_count": null,
      "_view_module": "@jupyter-widgets/base",
      "_view_module_version": "1.2.0",
      "_view_name": "LayoutView",
      "align_content": null,
      "align_items": null,
      "align_self": null,
      "border": null,
      "bottom": null,
      "display": null,
      "flex": null,
      "flex_flow": null,
      "grid_area": null,
      "grid_auto_columns": null,
      "grid_auto_flow": null,
      "grid_auto_rows": null,
      "grid_column": null,
      "grid_gap": null,
      "grid_row": null,
      "grid_template_areas": null,
      "grid_template_columns": null,
      "grid_template_rows": null,
      "height": null,
      "justify_content": null,
      "justify_items": null,
      "left": null,
      "margin": null,
      "max_height": null,
      "max_width": null,
      "min_height": null,
      "min_width": null,
      "object_fit": null,
      "object_position": null,
      "order": null,
      "overflow": null,
      "overflow_x": null,
      "overflow_y": null,
      "padding": null,
      "right": null,
      "top": null,
      "visibility": null,
      "width": null
     }
    },
    "9ac88b7407aa42069dfcfa5ae9f1514e": {
     "model_module": "@jupyter-widgets/controls",
     "model_name": "DescriptionStyleModel",
     "state": {
      "_model_module": "@jupyter-widgets/controls",
      "_model_module_version": "1.5.0",
      "_model_name": "DescriptionStyleModel",
      "_view_count": null,
      "_view_module": "@jupyter-widgets/base",
      "_view_module_version": "1.2.0",
      "_view_name": "StyleView",
      "description_width": ""
     }
    },
    "b901fae9b63e4bde9c642a73c6e2dd88": {
     "model_module": "@jupyter-widgets/controls",
     "model_name": "HTMLModel",
     "state": {
      "_dom_classes": [],
      "_model_module": "@jupyter-widgets/controls",
      "_model_module_version": "1.5.0",
      "_model_name": "HTMLModel",
      "_view_count": null,
      "_view_module": "@jupyter-widgets/controls",
      "_view_module_version": "1.5.0",
      "_view_name": "HTMLView",
      "description": "",
      "description_tooltip": null,
      "layout": "IPY_MODEL_721200b4d98149e2bbf39c976751ae08",
      "placeholder": "​",
      "style": "IPY_MODEL_942587e2672a4a01837a79de40f0a9bb",
      "value": " 9109/25000 [00:00&lt;00:00, 89950.24 examples/s]"
     }
    },
    "bb1ee50789304e7d9f28f57e14541742": {
     "model_module": "@jupyter-widgets/controls",
     "model_name": "FloatProgressModel",
     "state": {
      "_dom_classes": [],
      "_model_module": "@jupyter-widgets/controls",
      "_model_module_version": "1.5.0",
      "_model_name": "FloatProgressModel",
      "_view_count": null,
      "_view_module": "@jupyter-widgets/controls",
      "_view_module_version": "1.5.0",
      "_view_name": "ProgressView",
      "bar_style": "danger",
      "description": " 59%",
      "description_tooltip": null,
      "layout": "IPY_MODEL_0c6eda1ec2834a67a14b4ba366745458",
      "max": 50000,
      "min": 0,
      "orientation": "horizontal",
      "style": "IPY_MODEL_69378b0fefa9438f9b887d90103d555b",
      "value": 29427
     }
    },
    "be7ffd992aaf4bf58e70626f62b282d1": {
     "model_module": "@jupyter-widgets/base",
     "model_name": "LayoutModel",
     "state": {
      "_model_module": "@jupyter-widgets/base",
      "_model_module_version": "1.2.0",
      "_model_name": "LayoutModel",
      "_view_count": null,
      "_view_module": "@jupyter-widgets/base",
      "_view_module_version": "1.2.0",
      "_view_name": "LayoutView",
      "align_content": null,
      "align_items": null,
      "align_self": null,
      "border": null,
      "bottom": null,
      "display": null,
      "flex": null,
      "flex_flow": null,
      "grid_area": null,
      "grid_auto_columns": null,
      "grid_auto_flow": null,
      "grid_auto_rows": null,
      "grid_column": null,
      "grid_gap": null,
      "grid_row": null,
      "grid_template_areas": null,
      "grid_template_columns": null,
      "grid_template_rows": null,
      "height": null,
      "justify_content": null,
      "justify_items": null,
      "left": null,
      "margin": null,
      "max_height": null,
      "max_width": null,
      "min_height": null,
      "min_width": null,
      "object_fit": null,
      "object_position": null,
      "order": null,
      "overflow": null,
      "overflow_x": null,
      "overflow_y": null,
      "padding": null,
      "right": null,
      "top": null,
      "visibility": null,
      "width": null
     }
    },
    "c32bc875238946bcbf41285a4106702f": {
     "model_module": "@jupyter-widgets/base",
     "model_name": "LayoutModel",
     "state": {
      "_model_module": "@jupyter-widgets/base",
      "_model_module_version": "1.2.0",
      "_model_name": "LayoutModel",
      "_view_count": null,
      "_view_module": "@jupyter-widgets/base",
      "_view_module_version": "1.2.0",
      "_view_name": "LayoutView",
      "align_content": null,
      "align_items": null,
      "align_self": null,
      "border": null,
      "bottom": null,
      "display": null,
      "flex": null,
      "flex_flow": null,
      "grid_area": null,
      "grid_auto_columns": null,
      "grid_auto_flow": null,
      "grid_auto_rows": null,
      "grid_column": null,
      "grid_gap": null,
      "grid_row": null,
      "grid_template_areas": null,
      "grid_template_columns": null,
      "grid_template_rows": null,
      "height": null,
      "justify_content": null,
      "justify_items": null,
      "left": null,
      "margin": null,
      "max_height": null,
      "max_width": null,
      "min_height": null,
      "min_width": null,
      "object_fit": null,
      "object_position": null,
      "order": null,
      "overflow": null,
      "overflow_x": null,
      "overflow_y": null,
      "padding": null,
      "right": null,
      "top": null,
      "visibility": null,
      "width": null
     }
    },
    "c58ded37b85547f480938da88e8570ee": {
     "model_module": "@jupyter-widgets/controls",
     "model_name": "ProgressStyleModel",
     "state": {
      "_model_module": "@jupyter-widgets/controls",
      "_model_module_version": "1.5.0",
      "_model_name": "ProgressStyleModel",
      "_view_count": null,
      "_view_module": "@jupyter-widgets/base",
      "_view_module_version": "1.2.0",
      "_view_name": "StyleView",
      "bar_color": null,
      "description_width": "initial"
     }
    },
    "cc5be122581a49758599bae2aae3080c": {
     "model_module": "@jupyter-widgets/base",
     "model_name": "LayoutModel",
     "state": {
      "_model_module": "@jupyter-widgets/base",
      "_model_module_version": "1.2.0",
      "_model_name": "LayoutModel",
      "_view_count": null,
      "_view_module": "@jupyter-widgets/base",
      "_view_module_version": "1.2.0",
      "_view_name": "LayoutView",
      "align_content": null,
      "align_items": null,
      "align_self": null,
      "border": null,
      "bottom": null,
      "display": null,
      "flex": null,
      "flex_flow": null,
      "grid_area": null,
      "grid_auto_columns": null,
      "grid_auto_flow": null,
      "grid_auto_rows": null,
      "grid_column": null,
      "grid_gap": null,
      "grid_row": null,
      "grid_template_areas": null,
      "grid_template_columns": null,
      "grid_template_rows": null,
      "height": null,
      "justify_content": null,
      "justify_items": null,
      "left": null,
      "margin": null,
      "max_height": null,
      "max_width": null,
      "min_height": null,
      "min_width": null,
      "object_fit": null,
      "object_position": null,
      "order": null,
      "overflow": null,
      "overflow_x": null,
      "overflow_y": null,
      "padding": null,
      "right": null,
      "top": null,
      "visibility": null,
      "width": null
     }
    },
    "d3df9df318c049a9ae140527c5400674": {
     "model_module": "@jupyter-widgets/controls",
     "model_name": "HBoxModel",
     "state": {
      "_dom_classes": [],
      "_model_module": "@jupyter-widgets/controls",
      "_model_module_version": "1.5.0",
      "_model_name": "HBoxModel",
      "_view_count": null,
      "_view_module": "@jupyter-widgets/controls",
      "_view_module_version": "1.5.0",
      "_view_name": "HBoxView",
      "box_style": "",
      "children": [
       "IPY_MODEL_bb1ee50789304e7d9f28f57e14541742",
       "IPY_MODEL_07ac054ee0ca43a89b63ff31f67522f0"
      ],
      "layout": "IPY_MODEL_cc5be122581a49758599bae2aae3080c"
     }
    },
    "d755719dc17f40b1bb326742c8f78839": {
     "model_module": "@jupyter-widgets/controls",
     "model_name": "ProgressStyleModel",
     "state": {
      "_model_module": "@jupyter-widgets/controls",
      "_model_module_version": "1.5.0",
      "_model_name": "ProgressStyleModel",
      "_view_count": null,
      "_view_module": "@jupyter-widgets/base",
      "_view_module_version": "1.2.0",
      "_view_name": "StyleView",
      "bar_color": null,
      "description_width": "initial"
     }
    },
    "e312b2f6a3db45599ce5bf9a52531794": {
     "model_module": "@jupyter-widgets/controls",
     "model_name": "HBoxModel",
     "state": {
      "_dom_classes": [],
      "_model_module": "@jupyter-widgets/controls",
      "_model_module_version": "1.5.0",
      "_model_name": "HBoxModel",
      "_view_count": null,
      "_view_module": "@jupyter-widgets/controls",
      "_view_module_version": "1.5.0",
      "_view_name": "HBoxView",
      "box_style": "",
      "children": [
       "IPY_MODEL_97725d21f9fa40839141a4136fdd1124",
       "IPY_MODEL_5266f904b1ff4146bf2fbfdf019c291d"
      ],
      "layout": "IPY_MODEL_99f4f176e0504f92b2bcbd528958bfb2"
     }
    },
    "e606123939ea4ce9a6f126d10106103e": {
     "model_module": "@jupyter-widgets/controls",
     "model_name": "HBoxModel",
     "state": {
      "_dom_classes": [],
      "_model_module": "@jupyter-widgets/controls",
      "_model_module_version": "1.5.0",
      "_model_name": "HBoxModel",
      "_view_count": null,
      "_view_module": "@jupyter-widgets/controls",
      "_view_module_version": "1.5.0",
      "_view_name": "HBoxView",
      "box_style": "",
      "children": [
       "IPY_MODEL_79e1135b4d6145ffb8c2cbd364d561a4",
       "IPY_MODEL_b901fae9b63e4bde9c642a73c6e2dd88"
      ],
      "layout": "IPY_MODEL_6514fbc23820485ca7bc10dff44fb4c4"
     }
    },
    "e74d7a0f048d418292cd986a85cd4c22": {
     "model_module": "@jupyter-widgets/controls",
     "model_name": "FloatProgressModel",
     "state": {
      "_dom_classes": [],
      "_model_module": "@jupyter-widgets/controls",
      "_model_module_version": "1.5.0",
      "_model_name": "FloatProgressModel",
      "_view_count": null,
      "_view_module": "@jupyter-widgets/controls",
      "_view_module_version": "1.5.0",
      "_view_name": "ProgressView",
      "bar_style": "success",
      "description": "Dl Completed...: ",
      "description_tooltip": null,
      "layout": "IPY_MODEL_c32bc875238946bcbf41285a4106702f",
      "max": 1,
      "min": 0,
      "orientation": "horizontal",
      "style": "IPY_MODEL_42950dd798614461881e2e92d28b3064",
      "value": 0
     }
    },
    "ee171155edab49959e279ec8af9b7782": {
     "model_module": "@jupyter-widgets/controls",
     "model_name": "ProgressStyleModel",
     "state": {
      "_model_module": "@jupyter-widgets/controls",
      "_model_module_version": "1.5.0",
      "_model_name": "ProgressStyleModel",
      "_view_count": null,
      "_view_module": "@jupyter-widgets/base",
      "_view_module_version": "1.2.0",
      "_view_name": "StyleView",
      "bar_color": null,
      "description_width": "initial"
     }
    }
   }
  }
 },
 "nbformat": 4,
 "nbformat_minor": 1
}
